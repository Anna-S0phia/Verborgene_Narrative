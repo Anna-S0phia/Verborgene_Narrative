{
 "cells": [
  {
   "cell_type": "markdown",
   "metadata": {},
   "source": [
    "# Get list of artists from Wikipedia mentioned in the Lives  of Vasari\n",
    "#### (https://en.wikipedia.org/wiki/Lives_of_the_Most_Excellent_Painters,_Sculptors,_and_Architects) with Beautiful Soup"
   ]
  },
  {
   "cell_type": "markdown",
   "metadata": {},
   "source": [
    "#### based on Jeri Wieringa, \"Intro to Beautiful Soup,\" The Programming Historian 1 (2012), https://doi.org/10.46430/phen0008."
   ]
  },
  {
   "cell_type": "code",
   "execution_count": 5,
   "metadata": {},
   "outputs": [],
   "source": [
    "import urllib.request, urllib.error, urllib.parse\n",
    "import csv\n",
    "from bs4 import BeautifulSoup\n",
    "import html2text\n",
    "import os\n",
    "from datetime import datetime\n",
    "import numpy as np\n",
    "import pandas as pd\n",
    "import json\n",
    "from urllib.request import urlopen\n",
    "from PIL import Image"
   ]
  },
  {
   "cell_type": "markdown",
   "metadata": {},
   "source": [
    "### Helping functions"
   ]
  },
  {
   "cell_type": "code",
   "execution_count": 2,
   "metadata": {},
   "outputs": [],
   "source": [
    "# function to check if 'nan'\n",
    "def isnan(x):\n",
    "    return x != x   "
   ]
  },
  {
   "cell_type": "code",
   "execution_count": 6,
   "metadata": {},
   "outputs": [],
   "source": [
    "# obo.py\n",
    "# get rid of tags without Beautiful Soup\n",
    "def stripTags(pageContent):\n",
    "    pageContents = str(pageContent)\n",
    "\n",
    "    inside = 0\n",
    "    text = ''\n",
    "\n",
    "    for char in pageContents:\n",
    "        if char == '<':\n",
    "            inside = 1\n",
    "        elif (inside == 1 and char == '>'):\n",
    "            inside = 0\n",
    "        elif inside == 1:\n",
    "            continue\n",
    "        else:\n",
    "            text += char\n",
    "\n",
    "    return text"
   ]
  },
  {
   "cell_type": "markdown",
   "metadata": {},
   "source": [
    "### save 'Lives' Wikipedia article as .txt (!)"
   ]
  },
  {
   "cell_type": "code",
   "execution_count": 17,
   "metadata": {},
   "outputs": [],
   "source": [
    "# https://en.wikipedia.org/wiki/Lives_of_the_Most_Excellent_Painters,_Sculptors,_and_Architects\n",
    "lives_url = 'https://en.wikipedia.org/wiki/Lives_of_the_Most_Excellent_Painters,_Sculptors,_and_Architects'\n",
    "\n",
    "response = urllib.request.urlopen(lives_url)\n",
    "webContent = response.read()\n",
    "f = open('lives.txt', 'wb')\n",
    "f.write(webContent)\n",
    "f.close() "
   ]
  },
  {
   "cell_type": "markdown",
   "metadata": {},
   "source": [
    "### Open manually modified .txt and make a Beautiful Soup\n",
    "\n",
    "Delete the text by hand and keep only the list of artists with their links to the wikipedia articles"
   ]
  },
  {
   "cell_type": "code",
   "execution_count": null,
   "metadata": {},
   "outputs": [],
   "source": [
    "soup = BeautifulSoup(open('lives.txt'), \"lxml\")\n",
    "print(soup.prettify())"
   ]
  },
  {
   "cell_type": "markdown",
   "metadata": {},
   "source": [
    "### find all artists and their Wikipedia URL"
   ]
  },
  {
   "cell_type": "code",
   "execution_count": 148,
   "metadata": {},
   "outputs": [],
   "source": [
    "#soup.find_all('a')"
   ]
  },
  {
   "cell_type": "code",
   "execution_count": 130,
   "metadata": {},
   "outputs": [
    {
     "name": "stdout",
     "output_type": "stream",
     "text": [
      "Cimabue\n",
      "https://en.wikipedia.org/wiki/Cimabue\n",
      "Arnolfo di Lapo\n",
      "https://en.wikipedia.org/wiki/Arnolfo_di_Cambio\n",
      "Bonanno\n",
      "https://en.wikipedia.org/wiki/Bonanno_Pisano\n",
      "Nicola Pisano\n",
      "https://en.wikipedia.org/wiki/Nicola_Pisano\n",
      "Giovanni Pisano\n",
      "https://en.wikipedia.org/wiki/Giovanni_Pisano\n",
      "Andrea Tafi\n",
      "https://en.wikipedia.org/wiki/Andrea_Tafi_(artist)\n",
      "Gaddo Gaddi\n",
      "https://en.wikipedia.org/wiki/Gaddo_Gaddi\n",
      "Margaritone\n",
      "https://en.wikipedia.org/wiki/Margaritone_d%27Arezzo\n",
      "Giotto\n",
      "https://en.wikipedia.org/wiki/Giotto_di_Bondone\n",
      "Puccio Capanna\n",
      "https://en.wikipedia.org/wiki/Puccio_Capanna\n",
      "Agostino\n",
      "https://en.wikipedia.org/wiki/Agostino_da_Siena\n",
      "Agnolo\n",
      "https://en.wikipedia.org/wiki/Agnolo_da_Siena\n",
      "Stefano\n",
      "https://en.wikipedia.org/wiki/Stefano_Fiorentino\n",
      "Ugolino\n",
      "https://en.wikipedia.org/wiki/Ugolino_di_Nerio\n",
      "Pietro Lorenzetti\n",
      "https://en.wikipedia.org/wiki/Pietro_Lorenzetti\n",
      "Andrea Pisano\n",
      "https://en.wikipedia.org/wiki/Andrea_Pisano\n",
      "Buonamico Buffalmacco\n",
      "https://en.wikipedia.org/wiki/Buonamico_Buffalmacco\n",
      "Ambrogio Lorenzetti\n",
      "https://en.wikipedia.org/wiki/Ambrogio_Lorenzetti\n",
      "Pietro Cavallini\n",
      "https://en.wikipedia.org/wiki/Pietro_Cavallini\n",
      "Simone Martini\n",
      "https://en.wikipedia.org/wiki/Simone_Martini\n",
      "Lippo Memmi\n",
      "https://en.wikipedia.org/wiki/Lippo_Memmi\n",
      "Taddeo Gaddi\n",
      "https://en.wikipedia.org/wiki/Taddeo_Gaddi\n",
      "Andrea Orcagna\n",
      "https://en.wikipedia.org/wiki/Andrea_Orcagna\n",
      "Tommaso Fiorentino\n",
      "https://en.wikipedia.org/wiki/Giottino\n",
      "Giovanni da Ponte\n",
      "https://en.wikipedia.org/wiki/Giovanni_da_Ponte\n",
      "Agnolo Gaddi\n",
      "https://en.wikipedia.org/wiki/Agnolo_Gaddi\n",
      "Cennino Cennini\n",
      "https://en.wikipedia.org/wiki/Cennino_Cennini\n",
      "Berna Sanese\n",
      "https://en.wikipedia.org/wiki/Barna_da_Siena\n",
      "Duccio\n",
      "https://en.wikipedia.org/wiki/Duccio\n",
      "Antonio Viniziano\n",
      "https://en.wikipedia.org/wiki/Antonio_Veneziano_(painter)\n",
      "Jacopo di Casentino\n",
      "https://en.wikipedia.org/wiki/Jacopo_di_Casentino\n",
      "Spinello Aretino\n",
      "https://en.wikipedia.org/wiki/Spinello_Aretino\n",
      "Gherardo Starnina\n",
      "https://en.wikipedia.org/wiki/Gherardo_Starnina\n",
      "Lippo\n",
      "https://en.wikipedia.org/wiki/Lippo_Memmi\n",
      "Lorenzo Monaco\n",
      "https://en.wikipedia.org/wiki/Lorenzo_Monaco\n",
      "Taddeo Bartoli\n",
      "https://en.wikipedia.org/wiki/Taddeo_Bartoli\n",
      "Lorenzo di Bicci\n",
      "https://en.wikipedia.org/wiki/Lorenzo_di_Bicci\n",
      "Bicci di Lorenzo\n",
      "https://en.wikipedia.org/wiki/Bicci_di_Lorenzo\n",
      "Neri di Bicci\n",
      "https://en.wikipedia.org/wiki/Neri_di_Bicci\n",
      "Jacopo della Quercia\n",
      "https://en.wikipedia.org/wiki/Jacopo_della_Quercia\n",
      "Niccolo Aretino\n",
      "https://en.wikipedia.org/wiki/Niccol%C3%B2_di_Piero_Lamberti\n",
      "Dello\n",
      "https://en.wikipedia.org/wiki/Dello_di_Niccol%C3%B2_Delli\n",
      "Nanni di Banco\n",
      "https://en.wikipedia.org/wiki/Nanni_di_Banco\n",
      "Luca della Robbia\n",
      "https://en.wikipedia.org/wiki/Luca_della_Robbia\n",
      "Andrea\n",
      "https://en.wikipedia.org/wiki/Andrea_della_Robbia\n",
      "Girolamo della Robbia\n",
      "https://en.wikipedia.org/wiki/Girolamo_della_Robbia\n",
      "Paolo Uccello\n",
      "https://en.wikipedia.org/wiki/Paolo_Uccello\n",
      "Lorenzo Ghiberti\n",
      "https://en.wikipedia.org/wiki/Lorenzo_Ghiberti\n",
      "Niccolò di Piero Lamberti\n",
      "https://en.wikipedia.org/wiki/Niccol%C3%B2_di_Piero_Lamberti\n",
      "Masolino da Panicale\n",
      "https://en.wikipedia.org/wiki/Masolino_da_Panicale\n",
      "Parri Spinelli\n",
      "https://en.wikipedia.org/wiki/Parri_Spinelli\n",
      "Masaccio\n",
      "https://en.wikipedia.org/wiki/Tommaso_Masaccio\n",
      "Filippo Brunelleschi\n",
      "https://en.wikipedia.org/wiki/Filippo_Brunelleschi\n",
      "Donatello\n",
      "https://en.wikipedia.org/wiki/Donatello\n",
      "Michelozzo Michelozzi\n",
      "https://en.wikipedia.org/wiki/Michelozzo_Michelozzi\n",
      "Pagno di Lapo Portigiani\n",
      "https://en.wikipedia.org/wiki/Pagno_di_Lapo_Portigiani\n",
      "Antonio Filarete\n",
      "https://en.wikipedia.org/wiki/Antonio_Filarete\n",
      "Simone\n",
      "https://en.wikipedia.org/wiki/Simone_Ghini\n",
      "Giuliano da Maiano\n",
      "https://en.wikipedia.org/wiki/Giuliano_da_Maiano\n",
      "Piero della Francesca\n",
      "https://en.wikipedia.org/wiki/Piero_della_Francesca\n",
      "Fra Angelico\n",
      "https://en.wikipedia.org/wiki/Fra_Angelico\n",
      "Domenico di Michelino\n",
      "https://en.wikipedia.org/wiki/Domenico_di_Michelino\n",
      "Attavante\n",
      "https://en.wikipedia.org/wiki/Attavante_Attavanti\n",
      "Leon Battista Alberti\n",
      "https://en.wikipedia.org/wiki/Leon_Battista_Alberti\n",
      "Lazaro Vasari\n",
      "https://en.wikipedia.org/wiki/Lazaro_Vasari\n",
      "Antonello da Messina\n",
      "https://en.wikipedia.org/wiki/Antonello_da_Messina\n",
      "Alesso Baldovinetti\n",
      "https://en.wikipedia.org/wiki/Alesso_Baldovinetti\n",
      "Vellano da Padova\n",
      "https://en.wikipedia.org/wiki/Bartolomeo_Bellano\n",
      "Fra Filippo Lippi\n",
      "https://en.wikipedia.org/wiki/Fra_Filippo_Lippi\n",
      "Fra Diamante\n",
      "https://en.wikipedia.org/wiki/Fra_Diamante\n",
      "Jacopo del Sellaio\n",
      "https://en.wikipedia.org/wiki/Jacopo_del_Sellaio\n",
      "Paolo Romano\n",
      "https://en.wikipedia.org/wiki/Paolo_Romano\n",
      "Mino del Reame\n",
      "https://en.wikipedia.org/wiki/Mino_del_Reame\n",
      "Chimenti Camicia\n",
      "https://en.wikipedia.org/wiki/Chimenti_Camicia\n",
      "Baccio Pontelli\n",
      "https://en.wikipedia.org/wiki/Baccio_Pontelli\n",
      "Andrea del Castagno\n",
      "https://en.wikipedia.org/wiki/Andrea_del_Castagno\n",
      "Domenico Veneziano\n",
      "https://en.wikipedia.org/wiki/Domenico_Veneziano\n",
      "Gentile da Fabriano\n",
      "https://en.wikipedia.org/wiki/Gentile_da_Fabriano\n",
      "Vittore Pisanello\n",
      "https://en.wikipedia.org/wiki/Pisanello\n",
      "Pesello\n",
      "https://en.wikipedia.org/wiki/Francesco_di_Pesello\n",
      "Francesco Pesellino\n",
      "https://en.wikipedia.org/wiki/Francesco_Pesellino\n",
      "Benozzo Gozzoli\n",
      "https://en.wikipedia.org/wiki/Benozzo_Gozzoli\n",
      "Melozzo da Forlì\n",
      "https://en.wikipedia.org/wiki/Melozzo_da_Forl%C3%AC\n",
      "Francesco di Giorgio\n",
      "https://en.wikipedia.org/wiki/Francesco_di_Giorgio\n",
      "Vecchietta\n",
      "https://en.wikipedia.org/wiki/Vecchietta\n",
      "Galasso Ferrarese\n",
      "https://en.wikipedia.org/wiki/Galasso_Galassi\n",
      "Cosmè Tura\n",
      "https://en.wikipedia.org/wiki/Cosm%C3%A8_Tura\n",
      "Antonio\n",
      "https://en.wikipedia.org/wiki/Antonio_Rossellino\n",
      "Bernardo Rossellino\n",
      "https://en.wikipedia.org/wiki/Bernardo_Rossellino\n",
      "Desiderio da Settignano\n",
      "https://en.wikipedia.org/wiki/Desiderio_da_Settignano\n",
      "Mino da Fiesole\n",
      "https://en.wikipedia.org/wiki/Mino_da_Fiesole\n",
      "Lorenzo Costa\n",
      "https://en.wikipedia.org/wiki/Lorenzo_Costa\n",
      "Ludovico Mazzolino\n",
      "https://en.wikipedia.org/wiki/Ludovico_Mazzolino\n",
      "Ercole Ferrarese\n",
      "https://en.wikipedia.org/wiki/Ercole_Ferrarese\n",
      "Jacopo\n",
      "https://en.wikipedia.org/wiki/Jacopo_Bellini\n",
      "Giovanni\n",
      "https://en.wikipedia.org/wiki/Giovanni_Bellini\n",
      "Gentile Bellini\n",
      "https://en.wikipedia.org/wiki/Gentile_Bellini\n",
      "Niccolò Rondinelli\n",
      "https://en.wikipedia.org/wiki/Niccolo_Rondinelli\n",
      "Benedetto Coda\n",
      "https://en.wikipedia.org/wiki/Benedetto_Coda\n",
      "Cosimo Rosselli\n",
      "https://en.wikipedia.org/wiki/Cosimo_Rosselli\n",
      "Il Cecca\n",
      "https://en.wikipedia.org/wiki/Francesco_d%27Angelo\n",
      "Don Bartolomeo Abbate di S. Clemente\n",
      "https://en.wikipedia.org/wiki/Bartolomeo_della_Gatta\n",
      "Matteo Lappoli\n",
      "https://en.wikipedia.org/wiki/Matteo_Lappoli\n",
      "Gherardo di Giovanni del Fora\n",
      "https://en.wikipedia.org/wiki/Gherardo_di_Giovanni_del_Fora\n",
      "Domenico Ghirlandaio\n",
      "https://en.wikipedia.org/wiki/Domenico_Ghirlandaio\n",
      "Benedetto\n",
      "https://en.wikipedia.org/wiki/Benedetto_Ghirlandaio\n",
      "David Ghirlandaio\n",
      "https://en.wikipedia.org/wiki/David_Ghirlandaio\n",
      "Bastiano Mainardi\n",
      "https://en.wikipedia.org/wiki/Bastiano_Mainardi\n",
      "Antonio Pollaiuolo\n",
      "https://en.wikipedia.org/wiki/Antonio_Pollaiuolo\n",
      "Piero Pollaiuolo\n",
      "https://en.wikipedia.org/wiki/Piero_Pollaiuolo\n",
      "Maso Finiguerra\n",
      "https://en.wikipedia.org/wiki/Maso_Finiguerra\n",
      "Sandro Botticelli\n",
      "https://en.wikipedia.org/wiki/Sandro_Botticelli\n",
      "Benedetto da Maiano\n",
      "https://en.wikipedia.org/wiki/Benedetto_da_Maiano\n",
      "Andrea del Verrocchio\n",
      "https://en.wikipedia.org/wiki/Andrea_del_Verrocchio\n",
      "Benedetto\n",
      "https://en.wikipedia.org/wiki/Benedetto_Buglioni\n",
      "Santi Buglioni\n",
      "https://en.wikipedia.org/wiki/Santi_Buglioni\n",
      "Andrea Mantegna\n",
      "https://en.wikipedia.org/wiki/Andrea_Mantegna\n",
      "Filippino Lippi\n",
      "https://en.wikipedia.org/wiki/Filippino_Lippi\n",
      "Bernardino Pinturicchio\n",
      "https://en.wikipedia.org/wiki/Pinturicchio\n",
      "Niccolò Alunno\n",
      "https://en.wikipedia.org/wiki/Niccol%C3%B2_Alunno\n",
      "Gerino da Pistoia\n",
      "https://en.wikipedia.org/wiki/Gerino_da_Pistoia\n",
      "Francesco Francia\n",
      "https://en.wikipedia.org/wiki/Francesco_Francia\n",
      "Caradosso\n",
      "https://en.wikipedia.org/wiki/Caradosso\n",
      "Pietro Perugino\n",
      "https://en.wikipedia.org/wiki/Perugino\n",
      "Rocco Zoppo\n",
      "https://en.wikipedia.org/wiki/Rocco_Zoppo\n",
      "Francesco Bacchiacca\n",
      "https://en.wikipedia.org/wiki/Francesco_Bacchiacca\n",
      "Eusebio da San Giorgio\n",
      "https://en.wikipedia.org/wiki/Eusebio_da_San_Giorgio\n",
      "Andrea Aloigi (l'Ingegno)\n",
      "https://en.wikipedia.org/wiki/Andrea_di_Aloigi\n",
      "Vittore Scarpaccia\n",
      "https://en.wikipedia.org/wiki/Vittore_Carpaccio\n",
      "Stefano da Verona\n",
      "https://en.wikipedia.org/wiki/Stefano_da_Verona\n",
      "Jacopo Avanzi\n",
      "https://en.wikipedia.org/wiki/Jacopo_Avanzi\n",
      "Altichiero\n",
      "https://en.wikipedia.org/wiki/Altichiero\n",
      "Jacobello del Fiore\n",
      "https://en.wikipedia.org/wiki/Jacobello_del_Fiore\n",
      "Guariento di Arpo\n",
      "https://en.wikipedia.org/wiki/Guariento_di_Arpo\n",
      "Giusto de' Menabuoi\n",
      "https://en.wikipedia.org/wiki/Giusto_de%27_Menabuoi\n",
      "Vincenzo Foppa\n",
      "https://en.wikipedia.org/wiki/Vincenzo_Foppa\n",
      "Vincenzo Catena\n",
      "https://en.wikipedia.org/wiki/Vincenzo_Catena\n",
      "Cima da Conegliano\n",
      "https://en.wikipedia.org/wiki/Cima_da_Conegliano\n",
      "Marco Basaiti\n",
      "https://en.wikipedia.org/wiki/Marco_Basaiti\n",
      "Bartolomeo Vivarini\n",
      "https://en.wikipedia.org/wiki/Bartolomeo_Vivarini\n",
      "Giovanni di Niccolò Mansueti\n",
      "https://en.wikipedia.org/wiki/Giovanni_di_Niccol%C3%B2_Mansueti\n",
      "Vittore Belliniano\n",
      "https://en.wikipedia.org/wiki/Vittore_Belliniano\n",
      "Bartolomeo Montagna\n",
      "https://en.wikipedia.org/wiki/Bartolomeo_Montagna\n",
      "Benedetto Rusconi\n",
      "https://en.wikipedia.org/wiki/Benedetto_Rusconi\n",
      "Giovanni Buonconsiglio\n",
      "https://en.wikipedia.org/wiki/Giovanni_Buonconsiglio\n",
      "Simone Bianco\n",
      "https://en.wikipedia.org/w/index.php?title=Simone_Bianco&action=edit&redlink=1\n",
      "Tullio Lombardo\n",
      "https://en.wikipedia.org/wiki/Tullio_Lombardo\n",
      "Vincenzo Civerchio\n",
      "https://en.wikipedia.org/wiki/Vincenzo_Civerchio\n",
      "Girolamo Romani\n",
      "https://en.wikipedia.org/wiki/Girolamo_Romani\n",
      "Alessandro Bonvicino (il Moretto)\n",
      "https://en.wikipedia.org/wiki/Moretto_da_Brescia\n",
      "Francesco Bonsignori\n",
      "https://en.wikipedia.org/wiki/Francesco_Bonsignori\n",
      "Giovanni Francesco Caroto\n",
      "https://en.wikipedia.org/wiki/Giovanni_Francesco_Caroto\n",
      "Francesco Torbido (il Moro)\n",
      "https://en.wikipedia.org/wiki/Francesco_Torbido\n",
      "Iacopo detto l'Indaco\n",
      "https://en.wikipedia.org/wiki/Jacopo_Torni\n",
      "Luca Signorelli\n",
      "https://en.wikipedia.org/wiki/Luca_Signorelli\n",
      "Tommaso Bernabei (il Papacello)\n",
      "https://en.wikipedia.org/wiki/Tommaso_Barnabei\n",
      "Leonardo da Vinci\n",
      "https://en.wikipedia.org/wiki/Leonardo_da_Vinci\n",
      "Giorgione da Castelfranco\n",
      "https://en.wikipedia.org/wiki/Giorgione_da_Castelfranco\n",
      "Antonio da Correggio\n",
      "https://en.wikipedia.org/wiki/Antonio_da_Correggio\n",
      "Piero di Cosimo\n",
      "https://en.wikipedia.org/wiki/Piero_di_Cosimo\n",
      "Donato Bramante\n",
      "https://en.wikipedia.org/wiki/Donato_Bramante\n",
      "Fra Bartolomeo\n",
      "https://en.wikipedia.org/wiki/Fra_Bartolomeo\n",
      "Mariotto Albertinelli\n",
      "https://en.wikipedia.org/wiki/Mariotto_Albertinelli\n",
      "Raffaellino del Garbo\n",
      "https://en.wikipedia.org/wiki/Raffaellino_del_Garbo\n",
      "Pietro Torrigiano\n",
      "https://en.wikipedia.org/wiki/Pietro_Torrigiano\n",
      "Giuliano da Sangallo\n",
      "https://en.wikipedia.org/wiki/Giuliano_da_Sangallo\n",
      "Antonio da Sangallo\n",
      "https://en.wikipedia.org/wiki/Antonio_da_Sangallo_the_Elder\n",
      "Raphael\n",
      "https://en.wikipedia.org/wiki/Raffaello_Santi\n",
      "Guillaume de Marcillat\n",
      "https://en.wikipedia.org/wiki/Guillaume_de_Marcillat\n",
      "Simone del Pollaiolo\n",
      "https://en.wikipedia.org/wiki/Simone_del_Pollaiolo\n",
      "Davide Ghirlandaio\n",
      "https://en.wikipedia.org/wiki/Davide_Ghirlandaio\n",
      "Benedetto Ghirlandaio\n",
      "https://en.wikipedia.org/wiki/Benedetto_Ghirlandaio\n",
      "Domenico Puligo\n",
      "https://en.wikipedia.org/wiki/Domenico_Puligo\n",
      "Andrea da Fiesole\n",
      "https://en.wikipedia.org/wiki/Andrea_Ferrucci\n",
      "Vincenzo da San Gimignano\n",
      "https://en.wikipedia.org/wiki/Vincenzo_Tamagni\n",
      "Timoteo da Urbino\n",
      "https://en.wikipedia.org/wiki/Timoteo_della_Vite\n",
      "Andrea Sansovino\n",
      "https://en.wikipedia.org/wiki/Andrea_Sansovino\n",
      "Benedetto da Rovezzano\n",
      "https://en.wikipedia.org/wiki/Benedetto_Grazzini\n",
      "Baccio da Montelupo\n",
      "https://en.wikipedia.org/wiki/Baccio_da_Montelupo\n",
      "Raffaello da Montelupo\n",
      "https://en.wikipedia.org/wiki/Raffaello_da_Montelupo\n",
      "Lorenzo di Credi\n",
      "https://en.wikipedia.org/wiki/Lorenzo_di_Credi\n",
      "Boccaccio Boccaccino\n",
      "https://en.wikipedia.org/wiki/Boccaccio_Boccaccino\n",
      "Lorenzetto\n",
      "https://en.wikipedia.org/wiki/Lorenzetto\n",
      "Baldassare Peruzzi\n",
      "https://en.wikipedia.org/wiki/Baldassare_Peruzzi\n",
      "Pellegrino da Modena\n",
      "https://en.wikipedia.org/wiki/Pellegrino_Aretusi\n",
      "Giovan Francesco\n",
      "https://en.wikipedia.org/wiki/Gianfrancesco_Penni\n",
      "Andrea del Sarto\n",
      "https://en.wikipedia.org/wiki/Andrea_del_Sarto\n",
      "Properzia de' Rossi\n",
      "https://en.wikipedia.org/wiki/Properzia_de%27_Rossi\n",
      "suor Plautilla Nelli\n",
      "https://en.wikipedia.org/wiki/Suor_Plautilla_Nelli\n",
      "Lucrezia Quistelli\n",
      "https://en.wikipedia.org/wiki/Lucrezia_Quistelli\n",
      "Sofonisba Anguissola\n",
      "https://en.wikipedia.org/wiki/Sofonisba_Anguissola\n",
      "Alfonso Lombardi\n",
      "https://en.wikipedia.org/wiki/Alfonso_Lombardi\n",
      "Michele Agnolo\n",
      "https://en.wikipedia.org/wiki/Giovanni_Angelo_Montorsoli\n",
      "Girolamo Santacroce\n",
      "https://en.wikipedia.org/wiki/Girolamo_Santacroce\n",
      "Dosso Dossi\n",
      "https://en.wikipedia.org/wiki/Dosso_Dossi\n",
      "Battista Dossi\n",
      "https://en.wikipedia.org/wiki/Battista_Dossi\n",
      "Giovanni Antonio Licino\n",
      "https://en.wikipedia.org/wiki/Il_Pordenone\n",
      "Rosso Fiorentino\n",
      "https://en.wikipedia.org/wiki/Rosso_Fiorentino\n",
      "Giovanni Antonio Sogliani\n",
      "https://en.wikipedia.org/wiki/Giovanni_Antonio_Sogliani\n",
      "Girolamo da Treviso\n",
      "https://en.wikipedia.org/wiki/Girolamo_da_Treviso\n",
      "Polidoro da Caravaggio\n",
      "https://en.wikipedia.org/wiki/Polidoro_da_Caravaggio\n",
      "Maturino da Firenze\n",
      "https://en.wikipedia.org/wiki/Maturino_da_Firenze\n",
      "Bartolommeo Ramenghi\n",
      "https://en.wikipedia.org/wiki/Bartolommeo_Ramenghi\n",
      "Marco Calabrese\n",
      "https://en.wikipedia.org/wiki/Marco_Calabrese\n",
      "Morto Da Feltro\n",
      "https://en.wikipedia.org/wiki/Morto_Da_Feltro\n",
      "Franciabigio\n",
      "https://en.wikipedia.org/wiki/Franciabigio\n",
      "Francesco Mazzola\n",
      "https://en.wikipedia.org/wiki/Francesco_Mazzola\n",
      "Jacopo Palma\n",
      "https://en.wikipedia.org/wiki/Jacopo_Palma\n",
      "Lorenzo Lotto\n",
      "https://en.wikipedia.org/wiki/Lorenzo_Lotto\n",
      "Fra Giocondo\n",
      "https://en.wikipedia.org/wiki/Giovanni_Giocondo\n",
      "Francesco Granacci\n",
      "https://en.wikipedia.org/wiki/Francesco_Granacci\n",
      "Baccio d'Agnolo\n",
      "https://en.wikipedia.org/wiki/Baccio_d%27Agnolo\n",
      "Valerio Vicentino\n",
      "https://en.wikipedia.org/wiki/Valerio_Belli\n",
      "Giovanni da Castel Bolognese\n",
      "https://en.wikipedia.org/wiki/Giovanni_Bernardi\n",
      "Matteo dal Nasaro Veronese\n",
      "https://en.wikipedia.org/wiki/Matteo_dal_Nasaro_Veronese\n",
      "Marcantonio Bolognese\n",
      "https://en.wikipedia.org/wiki/Marcantonio_Raimondi\n",
      "Antonio da Sangallo\n",
      "https://en.wikipedia.org/wiki/Antonio_da_Sangallo_the_Younger\n",
      "Giulio Romano\n",
      "https://en.wikipedia.org/wiki/Giulio_Romano\n",
      "Sebastiano del Piombo\n",
      "https://en.wikipedia.org/wiki/Sebastiano_del_Piombo\n",
      "Perino Del Vaga\n",
      "https://en.wikipedia.org/wiki/Perin_del_Vaga\n",
      "Domenico Beccafumi\n",
      "https://en.wikipedia.org/wiki/Domenico_Beccafumi\n",
      "Giovann'Antonio Lappoli\n",
      "https://en.wikipedia.org/wiki/Giovanni_Antonio_Lappoli\n",
      "Niccolò Soggi\n",
      "https://en.wikipedia.org/wiki/Niccol%C3%B2_Soggi\n",
      "Niccolò detto il Tribolo\n",
      "https://en.wikipedia.org/wiki/Niccol%C3%B2_Tribolo\n",
      "Pierino da Vinci\n",
      "https://en.wikipedia.org/wiki/Pierino_da_Vinci\n",
      "Baccio Bandinelli\n",
      "https://en.wikipedia.org/wiki/Baccio_Bandinelli\n",
      "Giuliano Bugiardini\n",
      "https://en.wikipedia.org/wiki/Giuliano_Bugiardini\n",
      "Cristofano Gherardi\n",
      "https://en.wikipedia.org/wiki/Cristofano_Gherardi\n",
      "Jacopo da Pontormo\n",
      "https://en.wikipedia.org/wiki/Jacopo_da_Pontormo\n",
      "Simone Mosca\n",
      "https://en.wikipedia.org/wiki/Simone_Mosca\n",
      "Girolamo Genga\n",
      "https://en.wikipedia.org/wiki/Girolamo_Genga\n",
      "Bartolommeo Genga\n",
      "https://en.wikipedia.org/wiki/Bartolommeo_Genga\n",
      "Giovanbatista San Marino\n",
      "https://en.wikipedia.org/wiki/Giovanni_Battista_Belluzzi\n",
      "Michele Sanmicheli\n",
      "https://en.wikipedia.org/wiki/Michele_Sanmicheli\n",
      "Paolo Veronese\n",
      "https://en.wikipedia.org/wiki/Paolo_Veronese\n",
      "Paolo Farinati\n",
      "https://en.wikipedia.org/wiki/Paolo_Farinati\n",
      "Giovannantonio detto il Soddoma da Verzelli\n",
      "https://en.wikipedia.org/wiki/Il_Sodoma\n",
      "Bastiano detto Aristotile da San Gallo\n",
      "https://en.wikipedia.org/wiki/Bastiano_da_Sangallo\n",
      "Benedetto Garofalo\n",
      "https://en.wikipedia.org/wiki/Benvenuto_Tisi_(il_Garofalo)\n",
      "Girolamo da Carpi\n",
      "https://en.wikipedia.org/wiki/Girolamo_da_Carpi\n",
      "Bramantino\n",
      "https://en.wikipedia.org/wiki/Bramantino\n",
      "Bernardino Gatti (il Soiaro)\n",
      "https://en.wikipedia.org/wiki/Bernardino_Gatti\n",
      "Ridolfo Ghirlandaio\n",
      "https://en.wikipedia.org/wiki/Ridolfo_Ghirlandaio\n",
      "Davide Ghirlandaio\n",
      "https://en.wikipedia.org/wiki/Davide_Ghirlandaio\n",
      "Benedetto Ghirlandaio\n",
      "https://en.wikipedia.org/wiki/Benedetto_Ghirlandaio\n",
      "Giovanni da Udine\n",
      "https://en.wikipedia.org/wiki/Giovanni_da_Udine\n",
      "Battista Franco\n",
      "https://en.wikipedia.org/wiki/Battista_Franco\n",
      "Jacopo Tintoretto\n",
      "https://en.wikipedia.org/wiki/Tintoretto\n",
      "Andrea Schiavone\n",
      "https://en.wikipedia.org/wiki/Andrea_Schiavone\n",
      "Francesco Rustichi\n",
      "https://en.wikipedia.org/wiki/Giovanni_Francesco_Rustici\n",
      "Fra' Giovann'Agnolo Montorsoli\n",
      "https://en.wikipedia.org/wiki/Giovanni_Angelo_Montorsoli\n",
      "Francesco detto de' Salviati\n",
      "https://en.wikipedia.org/wiki/Francesco_de%27_Rossi_(Il_Salviati)\n",
      "Giuseppe Porta\n",
      "https://en.wikipedia.org/wiki/Giuseppe_Porta\n",
      "Daniello Ricciarelli da Volterra\n",
      "https://en.wikipedia.org/wiki/Daniele_da_Volterra\n",
      "Taddeo Zucchero\n",
      "https://en.wikipedia.org/wiki/Taddeo_Zuccari\n",
      "Federico Zuccari\n",
      "https://en.wikipedia.org/wiki/Federico_Zuccari\n",
      "Michelangelo Buonarroti\n",
      "https://en.wikipedia.org/wiki/Michelangelo_Buonarroti\n",
      "Tiberio Calcagni\n",
      "https://en.wikipedia.org/wiki/Tiberio_Calcagni\n",
      "Marcello Venusti\n",
      "https://en.wikipedia.org/wiki/Marcello_Venusti\n",
      "Francesco Primaticcio\n",
      "https://en.wikipedia.org/wiki/Francesco_Primaticcio\n",
      "Giovanni Battista Ramenghi\n",
      "https://en.wikipedia.org/wiki/Giovanni_Battista_Ramenghi\n",
      "Prospero Fontana\n",
      "https://en.wikipedia.org/wiki/Prospero_Fontana\n",
      "Niccolò dell'Abbate\n",
      "https://en.wikipedia.org/wiki/Niccol%C3%B2_dell%27Abbate\n",
      "Domenico del Barbieri\n",
      "https://en.wikipedia.org/wiki/Domenico_del_Barbieri\n",
      "Lorenzo Sabatini\n",
      "https://en.wikipedia.org/wiki/Lorenzo_Sabatini\n",
      "Pellegrino Tibaldi\n",
      "https://en.wikipedia.org/wiki/Pellegrino_Tibaldi\n",
      "Luca Longhi\n",
      "https://en.wikipedia.org/wiki/Luca_Longhi\n",
      "Livio Agresti\n",
      "https://en.wikipedia.org/wiki/Livio_Agresti\n",
      "Marco Marchetti\n",
      "https://en.wikipedia.org/wiki/Marco_Marchetti\n",
      "Giovanni Boscoli\n",
      "https://en.wikipedia.org/wiki/Giovanni_Boscoli\n",
      "Bartolomeo Passarotti\n",
      "https://en.wikipedia.org/wiki/Bartolomeo_Passarotti\n",
      "Tiziano da Cadore\n",
      "https://en.wikipedia.org/wiki/Titian\n",
      "Jacopo Bassano\n",
      "https://en.wikipedia.org/wiki/Jacopo_Bassano\n",
      "Giovanni Maria Verdizotti\n",
      "https://en.wikipedia.org/wiki/Giovanni_Maria_Verdizotti\n",
      "Jan van Calcar\n",
      "https://en.wikipedia.org/wiki/Jan_van_Calcar\n",
      "Paris Bordon\n",
      "https://en.wikipedia.org/wiki/Paris_Bordon\n",
      "Jacopo Sansovino\n",
      "https://en.wikipedia.org/wiki/Jacopo_Sansovino\n",
      "Andrea Palladio\n",
      "https://en.wikipedia.org/wiki/Andrea_Palladio\n",
      "Alessandro Vittoria\n",
      "https://en.wikipedia.org/wiki/Alessandro_Vittoria\n",
      "Bartolomeo Ammannati\n",
      "https://en.wikipedia.org/wiki/Bartolomeo_Ammannati\n",
      "Danese Cattaneo\n",
      "https://en.wikipedia.org/wiki/Danese_Cattaneo\n",
      "Lione Aretino\n",
      "https://en.wikipedia.org/wiki/Leone_Leoni\n",
      "Guglielmo Della Porta\n",
      "https://en.wikipedia.org/wiki/Guglielmo_Della_Porta\n",
      "Galeazzo Alessi\n",
      "https://en.wikipedia.org/wiki/Galeazzo_Alessi\n",
      "Giulio Clovio\n",
      "https://en.wikipedia.org/wiki/Giulio_Clovio\n",
      "manuscript illuminator\n",
      "https://en.wikipedia.org/wiki/Illuminated_manuscript\n",
      "Girolamo Siciolante da Sermoneta\n",
      "https://en.wikipedia.org/wiki/Girolamo_Siciolante_da_Sermoneta\n",
      "Marcello Venusti\n",
      "https://en.wikipedia.org/wiki/Marcello_Venusti\n",
      "Iacopino del Conte\n",
      "https://en.wikipedia.org/w/index.php?title=Iacopino_del_Conte&action=edit&redlink=1\n",
      "Dono Doni\n",
      "https://en.wikipedia.org/wiki/Dono_Doni\n",
      "Cesare Nebbia\n",
      "https://en.wikipedia.org/wiki/Cesare_Nebbia\n",
      "Niccolò Circignani detto il Pomarancio\n",
      "https://en.wikipedia.org/wiki/Niccol%C3%B2_Circignani\n",
      "Bronzino\n",
      "https://en.wikipedia.org/wiki/Bronzino\n",
      "Giorgio Vasari\n",
      "https://en.wikipedia.org/wiki/Giorgio_Vasari\n"
     ]
    }
   ],
   "source": [
    "# get the href URL and the name as the content of the tag\n",
    "\n",
    "links = soup.find_all('a')\n",
    "for link in links:\n",
    "    names = link.contents[0]\n",
    "    fullLink = link.get('href')\n",
    "    print(names)\n",
    "    print('https://en.wikipedia.org'+fullLink)"
   ]
  },
  {
   "cell_type": "markdown",
   "metadata": {},
   "source": [
    "### make list with URL and artistname"
   ]
  },
  {
   "cell_type": "code",
   "execution_count": 146,
   "metadata": {},
   "outputs": [
    {
     "data": {
      "text/plain": [
       "292"
      ]
     },
     "execution_count": 146,
     "metadata": {},
     "output_type": "execute_result"
    }
   ],
   "source": [
    "artist_list = list()\n",
    "links = soup.find_all('a')\n",
    "for link in links:\n",
    "    artist = list()\n",
    "    names = link.contents[0]\n",
    "    fullLink = link.get('href')\n",
    "    artist.append(names)\n",
    "    artist.append('https://en.wikipedia.org'+fullLink)\n",
    "    if fullLink.startswith('/wiki'):\n",
    "        artist_list.append(artist)\n",
    "    #print(artist)\n",
    "    \n",
    "len(artist_list)"
   ]
  },
  {
   "cell_type": "code",
   "execution_count": 121,
   "metadata": {},
   "outputs": [
    {
     "data": {
      "text/plain": [
       "16"
      ]
     },
     "execution_count": 121,
     "metadata": {},
     "output_type": "execute_result"
    }
   ],
   "source": [
    "#save artist_list as artist.csv\n",
    "csv_artists = csv.writer(open('artist.csv', \"w\"))\n",
    "\n",
    "#Write column headers as the first line\n",
    "csv_artists.writerow([\"Name\", \"wiki-link\"]) "
   ]
  },
  {
   "cell_type": "markdown",
   "metadata": {},
   "source": [
    "## get Wikidata Item ID with the artist URLs\n",
    " \"wgWikibaseItemId\"\n",
    "https://en.wikipedia.org/wiki/Cimabue"
   ]
  },
  {
   "cell_type": "code",
   "execution_count": 138,
   "metadata": {},
   "outputs": [
    {
     "data": {
      "text/plain": [
       "16"
      ]
     },
     "execution_count": 138,
     "metadata": {},
     "output_type": "execute_result"
    }
   ],
   "source": [
    "# get length of string\n",
    "len('wgWikibaseItemId')"
   ]
  },
  {
   "cell_type": "code",
   "execution_count": 137,
   "metadata": {},
   "outputs": [
    {
     "data": {
      "text/plain": [
       "292"
      ]
     },
     "execution_count": 137,
     "metadata": {},
     "output_type": "execute_result"
    }
   ],
   "source": [
    "\n",
    "qid_list = list() # new list with wikidata Q-ID\n",
    "count = 0\n",
    "\n",
    "for i in range(len(artist_list)): # artist_list containing name and wikidata-url \n",
    "    artist_name = artist_list[i][0]\n",
    "    artist_url = artist_list[i][1]\n",
    "\n",
    "    response = urllib.request.urlopen(artist_url) # open url \n",
    "    webContent = response.read()  # get html\n",
    "    id_index_start = (str(webContent).find('wgWikibaseItemId')) + 19 # get wikidata id\n",
    "    id_index_end = id_index_start + 10 # estimated length of the qid\n",
    "    \n",
    "    wikidata_id = str(webContent)[id_index_start:id_index_end] # store wikidata id\n",
    "    \n",
    "    artist = [artist_name, wikidata_id, artist_url] # new list for every artist\n",
    "    qid_list.append(artist) # append to new artist list\n",
    "\n",
    "    #print(wikidata_id, count)\n",
    "    count+=1\n",
    "    \n",
    "len(qid_list)"
   ]
  },
  {
   "cell_type": "code",
   "execution_count": 139,
   "metadata": {},
   "outputs": [
    {
     "data": {
      "text/plain": [
       "['Cimabue', 'Q15790\"};R', 'https://en.wikipedia.org/wiki/Cimabue']"
      ]
     },
     "execution_count": 139,
     "metadata": {},
     "output_type": "execute_result"
    }
   ],
   "source": [
    "qid_list[0]"
   ]
  },
  {
   "cell_type": "markdown",
   "metadata": {},
   "source": [
    "## convert qid_list to dataframe and save as csv"
   ]
  },
  {
   "cell_type": "code",
   "execution_count": 54,
   "metadata": {},
   "outputs": [],
   "source": [
    "filename = 'artist_qid.csv'"
   ]
  },
  {
   "cell_type": "code",
   "execution_count": 141,
   "metadata": {},
   "outputs": [],
   "source": [
    "columns = ['Name', 'Wikidata-Q-ID', 'Wikipedia-URL']"
   ]
  },
  {
   "cell_type": "code",
   "execution_count": 57,
   "metadata": {},
   "outputs": [],
   "source": [
    "# make Dataframe\n",
    "#df_qid = pd.DataFrame(qid_list, columns = columns)\n",
    "\n",
    "# save Dataframe as CSV\n",
    "#df_qid.to_csv(filename, index = False, header=True)"
   ]
  },
  {
   "cell_type": "code",
   "execution_count": null,
   "metadata": {},
   "outputs": [],
   "source": [
    "# open csv as dataframe\n",
    "df = pd.read_csv(filename)"
   ]
  },
  {
   "cell_type": "code",
   "execution_count": 56,
   "metadata": {},
   "outputs": [],
   "source": [
    "#save dataframe as csv\n",
    "df.to_csv(filename, index = False, header=True)"
   ]
  },
  {
   "cell_type": "markdown",
   "metadata": {},
   "source": [
    "# OPEN CSV file as dataframe"
   ]
  },
  {
   "cell_type": "code",
   "execution_count": 7,
   "metadata": {},
   "outputs": [
    {
     "data": {
      "text/html": [
       "<div>\n",
       "<style scoped>\n",
       "    .dataframe tbody tr th:only-of-type {\n",
       "        vertical-align: middle;\n",
       "    }\n",
       "\n",
       "    .dataframe tbody tr th {\n",
       "        vertical-align: top;\n",
       "    }\n",
       "\n",
       "    .dataframe thead th {\n",
       "        text-align: right;\n",
       "    }\n",
       "</style>\n",
       "<table border=\"1\" class=\"dataframe\">\n",
       "  <thead>\n",
       "    <tr style=\"text-align: right;\">\n",
       "      <th></th>\n",
       "      <th>Unnamed: 0</th>\n",
       "      <th>Name</th>\n",
       "      <th>Wikidata-Q-ID</th>\n",
       "      <th>Wikipedia-URL</th>\n",
       "      <th>URL-names</th>\n",
       "      <th>Summary</th>\n",
       "      <th>Wikipedia-json</th>\n",
       "      <th>image</th>\n",
       "      <th>thumbnail</th>\n",
       "      <th>birth</th>\n",
       "      <th>...</th>\n",
       "      <th>REAL MET Object IDS</th>\n",
       "      <th>cloudinary thumbnails</th>\n",
       "      <th>URLs MET</th>\n",
       "      <th>cloudinary artworks</th>\n",
       "      <th>Rijks name</th>\n",
       "      <th>URLs Rijk</th>\n",
       "      <th>Rijks img dates</th>\n",
       "      <th>Rijks img PIDs</th>\n",
       "      <th>Rijks img Inrs</th>\n",
       "      <th>extract_html</th>\n",
       "    </tr>\n",
       "  </thead>\n",
       "  <tbody>\n",
       "    <tr>\n",
       "      <th>0</th>\n",
       "      <td>0</td>\n",
       "      <td>Cimabue</td>\n",
       "      <td>Q15790</td>\n",
       "      <td>https://en.wikipedia.org/wiki/Cimabue</td>\n",
       "      <td>Cimabue</td>\n",
       "      <td>Cimabue, also known as Cenni di Pepo or Cenni ...</td>\n",
       "      <td>{'type': 'standard', 'title': 'Cimabue', 'disp...</td>\n",
       "      <td>https://upload.wikimedia.org/wikipedia/commons...</td>\n",
       "      <td>https://upload.wikimedia.org/wikipedia/commons...</td>\n",
       "      <td>1240</td>\n",
       "      <td>...</td>\n",
       "      <td>NaN</td>\n",
       "      <td>https://res.cloudinary.com/dfyzsulq8/image/upl...</td>\n",
       "      <td>['nan']</td>\n",
       "      <td>NaN</td>\n",
       "      <td>[]</td>\n",
       "      <td>[]</td>\n",
       "      <td>[]</td>\n",
       "      <td>[]</td>\n",
       "      <td>[]</td>\n",
       "      <td>&lt;p&gt;&lt;b&gt;Cimabue&lt;/b&gt;, also known as &lt;b&gt;Cenni di P...</td>\n",
       "    </tr>\n",
       "    <tr>\n",
       "      <th>1</th>\n",
       "      <td>1</td>\n",
       "      <td>Arnolfo di Lapo</td>\n",
       "      <td>Q315249</td>\n",
       "      <td>https://en.wikipedia.org/wiki/Arnolfo_di_Cambio</td>\n",
       "      <td>Arnolfo_di_Cambio</td>\n",
       "      <td>Arnolfo di Cambio was an Italian architect and...</td>\n",
       "      <td>{'type': 'standard', 'title': 'Arnolfo di Camb...</td>\n",
       "      <td>https://upload.wikimedia.org/wikipedia/commons...</td>\n",
       "      <td>https://upload.wikimedia.org/wikipedia/commons...</td>\n",
       "      <td>1240</td>\n",
       "      <td>...</td>\n",
       "      <td>NaN</td>\n",
       "      <td>https://res.cloudinary.com/dfyzsulq8/image/upl...</td>\n",
       "      <td>['nan']</td>\n",
       "      <td>NaN</td>\n",
       "      <td>[]</td>\n",
       "      <td>[]</td>\n",
       "      <td>[]</td>\n",
       "      <td>[]</td>\n",
       "      <td>[]</td>\n",
       "      <td>&lt;p&gt;&lt;b&gt;Arnolfo di Cambio&lt;/b&gt; was an Italian arc...</td>\n",
       "    </tr>\n",
       "    <tr>\n",
       "      <th>2</th>\n",
       "      <td>2</td>\n",
       "      <td>Bonanno</td>\n",
       "      <td>Q892084</td>\n",
       "      <td>https://en.wikipedia.org/wiki/Bonanno_Pisano</td>\n",
       "      <td>Bonanno_Pisano</td>\n",
       "      <td>Bonanno Pisano (Pisa), active in the 1170s and...</td>\n",
       "      <td>{'type': 'standard', 'title': 'Bonanno Pisano'...</td>\n",
       "      <td>https://upload.wikimedia.org/wikipedia/commons...</td>\n",
       "      <td>https://upload.wikimedia.org/wikipedia/commons...</td>\n",
       "      <td>9999</td>\n",
       "      <td>...</td>\n",
       "      <td>NaN</td>\n",
       "      <td>https://res.cloudinary.com/dfyzsulq8/image/upl...</td>\n",
       "      <td>['nan']</td>\n",
       "      <td>NaN</td>\n",
       "      <td>[]</td>\n",
       "      <td>[]</td>\n",
       "      <td>[]</td>\n",
       "      <td>[]</td>\n",
       "      <td>[]</td>\n",
       "      <td>&lt;p&gt;&lt;b&gt;Bonanno Pisano&lt;/b&gt; (Pisa), active in the...</td>\n",
       "    </tr>\n",
       "    <tr>\n",
       "      <th>3</th>\n",
       "      <td>3</td>\n",
       "      <td>Nicola Pisano</td>\n",
       "      <td>Q364413</td>\n",
       "      <td>https://en.wikipedia.org/wiki/Nicola_Pisano</td>\n",
       "      <td>Nicola_Pisano</td>\n",
       "      <td>Nicola Pisano was an Italian sculptor whose wo...</td>\n",
       "      <td>{'type': 'standard', 'title': 'Nicola Pisano',...</td>\n",
       "      <td>https://upload.wikimedia.org/wikipedia/commons...</td>\n",
       "      <td>https://upload.wikimedia.org/wikipedia/commons...</td>\n",
       "      <td>1225</td>\n",
       "      <td>...</td>\n",
       "      <td>NaN</td>\n",
       "      <td>https://res.cloudinary.com/dfyzsulq8/image/upl...</td>\n",
       "      <td>['nan']</td>\n",
       "      <td>NaN</td>\n",
       "      <td>[]</td>\n",
       "      <td>[]</td>\n",
       "      <td>[]</td>\n",
       "      <td>[]</td>\n",
       "      <td>[]</td>\n",
       "      <td>&lt;p&gt;&lt;b&gt;Nicola Pisano&lt;/b&gt; was an Italian sculpto...</td>\n",
       "    </tr>\n",
       "    <tr>\n",
       "      <th>4</th>\n",
       "      <td>4</td>\n",
       "      <td>Giovanni Pisano</td>\n",
       "      <td>Q314932</td>\n",
       "      <td>https://en.wikipedia.org/wiki/Giovanni_Pisano</td>\n",
       "      <td>Giovanni_Pisano</td>\n",
       "      <td>Giovanni Pisano was an Italian sculptor, paint...</td>\n",
       "      <td>{'type': 'standard', 'title': 'Giovanni Pisano...</td>\n",
       "      <td>https://upload.wikimedia.org/wikipedia/commons...</td>\n",
       "      <td>https://upload.wikimedia.org/wikipedia/commons...</td>\n",
       "      <td>1248</td>\n",
       "      <td>...</td>\n",
       "      <td>[463414, 463415, 465937, 466326]</td>\n",
       "      <td>https://res.cloudinary.com/dfyzsulq8/image/upl...</td>\n",
       "      <td>['https://images.metmuseum.org/CRDImages/md/we...</td>\n",
       "      <td>['https://res.cloudinary.com/dfyzsulq8/image/u...</td>\n",
       "      <td>[]</td>\n",
       "      <td>[]</td>\n",
       "      <td>[]</td>\n",
       "      <td>[]</td>\n",
       "      <td>[]</td>\n",
       "      <td>&lt;p&gt;&lt;b&gt;Giovanni Pisano&lt;/b&gt; was an Italian sculp...</td>\n",
       "    </tr>\n",
       "    <tr>\n",
       "      <th>...</th>\n",
       "      <td>...</td>\n",
       "      <td>...</td>\n",
       "      <td>...</td>\n",
       "      <td>...</td>\n",
       "      <td>...</td>\n",
       "      <td>...</td>\n",
       "      <td>...</td>\n",
       "      <td>...</td>\n",
       "      <td>...</td>\n",
       "      <td>...</td>\n",
       "      <td>...</td>\n",
       "      <td>...</td>\n",
       "      <td>...</td>\n",
       "      <td>...</td>\n",
       "      <td>...</td>\n",
       "      <td>...</td>\n",
       "      <td>...</td>\n",
       "      <td>...</td>\n",
       "      <td>...</td>\n",
       "      <td>...</td>\n",
       "      <td>...</td>\n",
       "    </tr>\n",
       "    <tr>\n",
       "      <th>287</th>\n",
       "      <td>287</td>\n",
       "      <td>Dono Doni</td>\n",
       "      <td>Q714914</td>\n",
       "      <td>https://en.wikipedia.org/wiki/Dono_Doni</td>\n",
       "      <td>Dono_Doni</td>\n",
       "      <td>Dono Doni, also known as Adone Doni or Dono de...</td>\n",
       "      <td>{'type': 'standard', 'title': 'Dono Doni', 'di...</td>\n",
       "      <td>https://upload.wikimedia.org/wikipedia/commons...</td>\n",
       "      <td>https://upload.wikimedia.org/wikipedia/commons...</td>\n",
       "      <td>1500</td>\n",
       "      <td>...</td>\n",
       "      <td>NaN</td>\n",
       "      <td>https://res.cloudinary.com/dfyzsulq8/image/upl...</td>\n",
       "      <td>['nan']</td>\n",
       "      <td>NaN</td>\n",
       "      <td>[]</td>\n",
       "      <td>[]</td>\n",
       "      <td>[]</td>\n",
       "      <td>[]</td>\n",
       "      <td>[]</td>\n",
       "      <td>&lt;p&gt;&lt;b&gt;Dono Doni&lt;/b&gt;, also known as &lt;b&gt;Adone Do...</td>\n",
       "    </tr>\n",
       "    <tr>\n",
       "      <th>288</th>\n",
       "      <td>288</td>\n",
       "      <td>Cesare Nebbia</td>\n",
       "      <td>Q503575</td>\n",
       "      <td>https://en.wikipedia.org/wiki/Cesare_Nebbia</td>\n",
       "      <td>Cesare_Nebbia</td>\n",
       "      <td>Cesare Nebbia (c.1536–c.1622) was an Italian p...</td>\n",
       "      <td>{'type': 'standard', 'title': 'Cesare Nebbia',...</td>\n",
       "      <td>https://upload.wikimedia.org/wikipedia/commons...</td>\n",
       "      <td>https://upload.wikimedia.org/wikipedia/commons...</td>\n",
       "      <td>1536</td>\n",
       "      <td>...</td>\n",
       "      <td>[340591, 340835, 340836, 340854, 340855, 34157...</td>\n",
       "      <td>https://res.cloudinary.com/dfyzsulq8/image/upl...</td>\n",
       "      <td>['https://images.metmuseum.org/CRDImages/dp/we...</td>\n",
       "      <td>['https://res.cloudinary.com/dfyzsulq8/image/u...</td>\n",
       "      <td>Nebbia, Cesare</td>\n",
       "      <td>['https://lh4.ggpht.com/9fdB8ox9dqpldh_XVMRwW1...</td>\n",
       "      <td>['1546']</td>\n",
       "      <td>['http://hdl.handle.net/10934/RM0001.COLLECT.4...</td>\n",
       "      <td>['RP-T-1952-29']</td>\n",
       "      <td>&lt;p&gt;&lt;b&gt;Cesare Nebbia&lt;/b&gt; (c.1536–c.1622) was an...</td>\n",
       "    </tr>\n",
       "    <tr>\n",
       "      <th>289</th>\n",
       "      <td>289</td>\n",
       "      <td>Niccolò Circignani detto il Pomarancio</td>\n",
       "      <td>Q382762</td>\n",
       "      <td>https://en.wikipedia.org/wiki/Niccol%C3%B2_Cir...</td>\n",
       "      <td>Niccol%C3%B2_Circignani</td>\n",
       "      <td>Niccolò Circignani was an Italian painter of t...</td>\n",
       "      <td>{'type': 'standard', 'title': 'Niccolò Circign...</td>\n",
       "      <td>https://upload.wikimedia.org/wikipedia/commons...</td>\n",
       "      <td>https://upload.wikimedia.org/wikipedia/commons...</td>\n",
       "      <td>1517</td>\n",
       "      <td>...</td>\n",
       "      <td>[342245]</td>\n",
       "      <td>https://res.cloudinary.com/dfyzsulq8/image/upl...</td>\n",
       "      <td>['https://images.metmuseum.org/CRDImages/dp/we...</td>\n",
       "      <td>['https://res.cloudinary.com/dfyzsulq8/image/u...</td>\n",
       "      <td>[]</td>\n",
       "      <td>[]</td>\n",
       "      <td>[]</td>\n",
       "      <td>[]</td>\n",
       "      <td>[]</td>\n",
       "      <td>&lt;p&gt;&lt;b&gt;Niccolò Circignani&lt;/b&gt; was an Italian pa...</td>\n",
       "    </tr>\n",
       "    <tr>\n",
       "      <th>290</th>\n",
       "      <td>290</td>\n",
       "      <td>Bronzino</td>\n",
       "      <td>Q7803</td>\n",
       "      <td>https://en.wikipedia.org/wiki/Bronzino</td>\n",
       "      <td>Bronzino</td>\n",
       "      <td>Agnolo di Cosimo, usually known as Bronzino or...</td>\n",
       "      <td>{'type': 'standard', 'title': 'Bronzino', 'dis...</td>\n",
       "      <td>https://upload.wikimedia.org/wikipedia/commons...</td>\n",
       "      <td>https://upload.wikimedia.org/wikipedia/commons...</td>\n",
       "      <td>1503</td>\n",
       "      <td>...</td>\n",
       "      <td>[345085, 370424, 372062, 435802, 435803, 643060]</td>\n",
       "      <td>https://res.cloudinary.com/dfyzsulq8/image/upl...</td>\n",
       "      <td>['https://images.metmuseum.org/CRDImages/dp/we...</td>\n",
       "      <td>['https://res.cloudinary.com/dfyzsulq8/image/u...</td>\n",
       "      <td>[]</td>\n",
       "      <td>[]</td>\n",
       "      <td>[]</td>\n",
       "      <td>[]</td>\n",
       "      <td>[]</td>\n",
       "      <td>&lt;p&gt;&lt;b&gt;Agnolo di Cosimo&lt;/b&gt;, usually known as &lt;...</td>\n",
       "    </tr>\n",
       "    <tr>\n",
       "      <th>291</th>\n",
       "      <td>291</td>\n",
       "      <td>Giorgio Vasari</td>\n",
       "      <td>Q128027</td>\n",
       "      <td>https://en.wikipedia.org/wiki/Giorgio_Vasari</td>\n",
       "      <td>Giorgio_Vasari</td>\n",
       "      <td>Giorgio Vasari was an Italian painter, archite...</td>\n",
       "      <td>{'type': 'standard', 'title': 'Giorgio Vasari'...</td>\n",
       "      <td>https://upload.wikimedia.org/wikipedia/commons...</td>\n",
       "      <td>https://upload.wikimedia.org/wikipedia/commons...</td>\n",
       "      <td>1511</td>\n",
       "      <td>...</td>\n",
       "      <td>NaN</td>\n",
       "      <td>https://res.cloudinary.com/dfyzsulq8/image/upl...</td>\n",
       "      <td>['nan']</td>\n",
       "      <td>NaN</td>\n",
       "      <td>Vasari, Giorgio</td>\n",
       "      <td>['https://lh6.ggpht.com/4-5Uom4G7n7-HSs_1klLn5...</td>\n",
       "      <td>['1521', '1544', '1541']</td>\n",
       "      <td>['http://hdl.handle.net/10934/RM0001.COLLECT.5...</td>\n",
       "      <td>['RP-T-1948-726', 'RP-T-1951-1', 'RP-T-1958-42']</td>\n",
       "      <td>&lt;p&gt;&lt;b&gt;Giorgio Vasari&lt;/b&gt; was an Italian painte...</td>\n",
       "    </tr>\n",
       "  </tbody>\n",
       "</table>\n",
       "<p>292 rows × 25 columns</p>\n",
       "</div>"
      ],
      "text/plain": [
       "     Unnamed: 0                                    Name Wikidata-Q-ID  \\\n",
       "0             0                                 Cimabue        Q15790   \n",
       "1             1                         Arnolfo di Lapo       Q315249   \n",
       "2             2                                 Bonanno       Q892084   \n",
       "3             3                           Nicola Pisano       Q364413   \n",
       "4             4                         Giovanni Pisano       Q314932   \n",
       "..          ...                                     ...           ...   \n",
       "287         287                               Dono Doni       Q714914   \n",
       "288         288                           Cesare Nebbia       Q503575   \n",
       "289         289  Niccolò Circignani detto il Pomarancio       Q382762   \n",
       "290         290                                Bronzino         Q7803   \n",
       "291         291                          Giorgio Vasari       Q128027   \n",
       "\n",
       "                                         Wikipedia-URL  \\\n",
       "0                https://en.wikipedia.org/wiki/Cimabue   \n",
       "1      https://en.wikipedia.org/wiki/Arnolfo_di_Cambio   \n",
       "2         https://en.wikipedia.org/wiki/Bonanno_Pisano   \n",
       "3          https://en.wikipedia.org/wiki/Nicola_Pisano   \n",
       "4        https://en.wikipedia.org/wiki/Giovanni_Pisano   \n",
       "..                                                 ...   \n",
       "287            https://en.wikipedia.org/wiki/Dono_Doni   \n",
       "288        https://en.wikipedia.org/wiki/Cesare_Nebbia   \n",
       "289  https://en.wikipedia.org/wiki/Niccol%C3%B2_Cir...   \n",
       "290             https://en.wikipedia.org/wiki/Bronzino   \n",
       "291       https://en.wikipedia.org/wiki/Giorgio_Vasari   \n",
       "\n",
       "                   URL-names  \\\n",
       "0                    Cimabue   \n",
       "1          Arnolfo_di_Cambio   \n",
       "2             Bonanno_Pisano   \n",
       "3              Nicola_Pisano   \n",
       "4            Giovanni_Pisano   \n",
       "..                       ...   \n",
       "287                Dono_Doni   \n",
       "288            Cesare_Nebbia   \n",
       "289  Niccol%C3%B2_Circignani   \n",
       "290                 Bronzino   \n",
       "291           Giorgio_Vasari   \n",
       "\n",
       "                                               Summary  \\\n",
       "0    Cimabue, also known as Cenni di Pepo or Cenni ...   \n",
       "1    Arnolfo di Cambio was an Italian architect and...   \n",
       "2    Bonanno Pisano (Pisa), active in the 1170s and...   \n",
       "3    Nicola Pisano was an Italian sculptor whose wo...   \n",
       "4    Giovanni Pisano was an Italian sculptor, paint...   \n",
       "..                                                 ...   \n",
       "287  Dono Doni, also known as Adone Doni or Dono de...   \n",
       "288  Cesare Nebbia (c.1536–c.1622) was an Italian p...   \n",
       "289  Niccolò Circignani was an Italian painter of t...   \n",
       "290  Agnolo di Cosimo, usually known as Bronzino or...   \n",
       "291  Giorgio Vasari was an Italian painter, archite...   \n",
       "\n",
       "                                        Wikipedia-json  \\\n",
       "0    {'type': 'standard', 'title': 'Cimabue', 'disp...   \n",
       "1    {'type': 'standard', 'title': 'Arnolfo di Camb...   \n",
       "2    {'type': 'standard', 'title': 'Bonanno Pisano'...   \n",
       "3    {'type': 'standard', 'title': 'Nicola Pisano',...   \n",
       "4    {'type': 'standard', 'title': 'Giovanni Pisano...   \n",
       "..                                                 ...   \n",
       "287  {'type': 'standard', 'title': 'Dono Doni', 'di...   \n",
       "288  {'type': 'standard', 'title': 'Cesare Nebbia',...   \n",
       "289  {'type': 'standard', 'title': 'Niccolò Circign...   \n",
       "290  {'type': 'standard', 'title': 'Bronzino', 'dis...   \n",
       "291  {'type': 'standard', 'title': 'Giorgio Vasari'...   \n",
       "\n",
       "                                                 image  \\\n",
       "0    https://upload.wikimedia.org/wikipedia/commons...   \n",
       "1    https://upload.wikimedia.org/wikipedia/commons...   \n",
       "2    https://upload.wikimedia.org/wikipedia/commons...   \n",
       "3    https://upload.wikimedia.org/wikipedia/commons...   \n",
       "4    https://upload.wikimedia.org/wikipedia/commons...   \n",
       "..                                                 ...   \n",
       "287  https://upload.wikimedia.org/wikipedia/commons...   \n",
       "288  https://upload.wikimedia.org/wikipedia/commons...   \n",
       "289  https://upload.wikimedia.org/wikipedia/commons...   \n",
       "290  https://upload.wikimedia.org/wikipedia/commons...   \n",
       "291  https://upload.wikimedia.org/wikipedia/commons...   \n",
       "\n",
       "                                             thumbnail  birth  ...  \\\n",
       "0    https://upload.wikimedia.org/wikipedia/commons...   1240  ...   \n",
       "1    https://upload.wikimedia.org/wikipedia/commons...   1240  ...   \n",
       "2    https://upload.wikimedia.org/wikipedia/commons...   9999  ...   \n",
       "3    https://upload.wikimedia.org/wikipedia/commons...   1225  ...   \n",
       "4    https://upload.wikimedia.org/wikipedia/commons...   1248  ...   \n",
       "..                                                 ...    ...  ...   \n",
       "287  https://upload.wikimedia.org/wikipedia/commons...   1500  ...   \n",
       "288  https://upload.wikimedia.org/wikipedia/commons...   1536  ...   \n",
       "289  https://upload.wikimedia.org/wikipedia/commons...   1517  ...   \n",
       "290  https://upload.wikimedia.org/wikipedia/commons...   1503  ...   \n",
       "291  https://upload.wikimedia.org/wikipedia/commons...   1511  ...   \n",
       "\n",
       "                                   REAL MET Object IDS  \\\n",
       "0                                                  NaN   \n",
       "1                                                  NaN   \n",
       "2                                                  NaN   \n",
       "3                                                  NaN   \n",
       "4                     [463414, 463415, 465937, 466326]   \n",
       "..                                                 ...   \n",
       "287                                                NaN   \n",
       "288  [340591, 340835, 340836, 340854, 340855, 34157...   \n",
       "289                                           [342245]   \n",
       "290   [345085, 370424, 372062, 435802, 435803, 643060]   \n",
       "291                                                NaN   \n",
       "\n",
       "                                 cloudinary thumbnails  \\\n",
       "0    https://res.cloudinary.com/dfyzsulq8/image/upl...   \n",
       "1    https://res.cloudinary.com/dfyzsulq8/image/upl...   \n",
       "2    https://res.cloudinary.com/dfyzsulq8/image/upl...   \n",
       "3    https://res.cloudinary.com/dfyzsulq8/image/upl...   \n",
       "4    https://res.cloudinary.com/dfyzsulq8/image/upl...   \n",
       "..                                                 ...   \n",
       "287  https://res.cloudinary.com/dfyzsulq8/image/upl...   \n",
       "288  https://res.cloudinary.com/dfyzsulq8/image/upl...   \n",
       "289  https://res.cloudinary.com/dfyzsulq8/image/upl...   \n",
       "290  https://res.cloudinary.com/dfyzsulq8/image/upl...   \n",
       "291  https://res.cloudinary.com/dfyzsulq8/image/upl...   \n",
       "\n",
       "                                              URLs MET  \\\n",
       "0                                              ['nan']   \n",
       "1                                              ['nan']   \n",
       "2                                              ['nan']   \n",
       "3                                              ['nan']   \n",
       "4    ['https://images.metmuseum.org/CRDImages/md/we...   \n",
       "..                                                 ...   \n",
       "287                                            ['nan']   \n",
       "288  ['https://images.metmuseum.org/CRDImages/dp/we...   \n",
       "289  ['https://images.metmuseum.org/CRDImages/dp/we...   \n",
       "290  ['https://images.metmuseum.org/CRDImages/dp/we...   \n",
       "291                                            ['nan']   \n",
       "\n",
       "                                   cloudinary artworks       Rijks name  \\\n",
       "0                                                  NaN               []   \n",
       "1                                                  NaN               []   \n",
       "2                                                  NaN               []   \n",
       "3                                                  NaN               []   \n",
       "4    ['https://res.cloudinary.com/dfyzsulq8/image/u...               []   \n",
       "..                                                 ...              ...   \n",
       "287                                                NaN               []   \n",
       "288  ['https://res.cloudinary.com/dfyzsulq8/image/u...   Nebbia, Cesare   \n",
       "289  ['https://res.cloudinary.com/dfyzsulq8/image/u...               []   \n",
       "290  ['https://res.cloudinary.com/dfyzsulq8/image/u...               []   \n",
       "291                                                NaN  Vasari, Giorgio   \n",
       "\n",
       "                                             URLs Rijk  \\\n",
       "0                                                   []   \n",
       "1                                                   []   \n",
       "2                                                   []   \n",
       "3                                                   []   \n",
       "4                                                   []   \n",
       "..                                                 ...   \n",
       "287                                                 []   \n",
       "288  ['https://lh4.ggpht.com/9fdB8ox9dqpldh_XVMRwW1...   \n",
       "289                                                 []   \n",
       "290                                                 []   \n",
       "291  ['https://lh6.ggpht.com/4-5Uom4G7n7-HSs_1klLn5...   \n",
       "\n",
       "              Rijks img dates  \\\n",
       "0                          []   \n",
       "1                          []   \n",
       "2                          []   \n",
       "3                          []   \n",
       "4                          []   \n",
       "..                        ...   \n",
       "287                        []   \n",
       "288                  ['1546']   \n",
       "289                        []   \n",
       "290                        []   \n",
       "291  ['1521', '1544', '1541']   \n",
       "\n",
       "                                        Rijks img PIDs  \\\n",
       "0                                                   []   \n",
       "1                                                   []   \n",
       "2                                                   []   \n",
       "3                                                   []   \n",
       "4                                                   []   \n",
       "..                                                 ...   \n",
       "287                                                 []   \n",
       "288  ['http://hdl.handle.net/10934/RM0001.COLLECT.4...   \n",
       "289                                                 []   \n",
       "290                                                 []   \n",
       "291  ['http://hdl.handle.net/10934/RM0001.COLLECT.5...   \n",
       "\n",
       "                                       Rijks img Inrs  \\\n",
       "0                                                  []   \n",
       "1                                                  []   \n",
       "2                                                  []   \n",
       "3                                                  []   \n",
       "4                                                  []   \n",
       "..                                                ...   \n",
       "287                                                []   \n",
       "288                                  ['RP-T-1952-29']   \n",
       "289                                                []   \n",
       "290                                                []   \n",
       "291  ['RP-T-1948-726', 'RP-T-1951-1', 'RP-T-1958-42']   \n",
       "\n",
       "                                          extract_html  \n",
       "0    <p><b>Cimabue</b>, also known as <b>Cenni di P...  \n",
       "1    <p><b>Arnolfo di Cambio</b> was an Italian arc...  \n",
       "2    <p><b>Bonanno Pisano</b> (Pisa), active in the...  \n",
       "3    <p><b>Nicola Pisano</b> was an Italian sculpto...  \n",
       "4    <p><b>Giovanni Pisano</b> was an Italian sculp...  \n",
       "..                                                 ...  \n",
       "287  <p><b>Dono Doni</b>, also known as <b>Adone Do...  \n",
       "288  <p><b>Cesare Nebbia</b> (c.1536–c.1622) was an...  \n",
       "289  <p><b>Niccolò Circignani</b> was an Italian pa...  \n",
       "290  <p><b>Agnolo di Cosimo</b>, usually known as <...  \n",
       "291  <p><b>Giorgio Vasari</b> was an Italian painte...  \n",
       "\n",
       "[292 rows x 25 columns]"
      ]
     },
     "execution_count": 7,
     "metadata": {},
     "output_type": "execute_result"
    }
   ],
   "source": [
    "# open csv as dataframe\n",
    "filename = '../data/artist_qid_html.csv'\n",
    "#csv_file = csv.reader(open(filename, \"r\"))\n",
    "df = pd.read_csv(filename)\n",
    "df"
   ]
  },
  {
   "cell_type": "markdown",
   "metadata": {},
   "source": [
    "### clean the q_id"
   ]
  },
  {
   "cell_type": "code",
   "execution_count": 65,
   "metadata": {},
   "outputs": [],
   "source": [
    "# clean by filter by .isnumeric (example for qid: 'Q15790\"};R')\n",
    "new_qid = list()\n",
    "for i in range(len(df)):\n",
    "    q_id = \"Q\"\n",
    "    for j in range(len(df['Wikidata-Q-ID'][i])):\n",
    "        \n",
    "        if df['Wikidata-Q-ID'][i][j].isnumeric():\n",
    "            q_id += df['Wikidata-Q-ID'][i][j]\n",
    "       \n",
    "    new_qid.append(q_id)\n",
    "    #print(q_id)            "
   ]
  },
  {
   "cell_type": "code",
   "execution_count": null,
   "metadata": {},
   "outputs": [],
   "source": [
    "df['Wikidata-Q-ID'] = new_qid\n",
    "#df"
   ]
  },
  {
   "cell_type": "markdown",
   "metadata": {},
   "source": [
    "### get the names of the wikipedia articles"
   ]
  },
  {
   "cell_type": "code",
   "execution_count": 68,
   "metadata": {},
   "outputs": [
    {
     "data": {
      "text/plain": [
       "30"
      ]
     },
     "execution_count": 68,
     "metadata": {},
     "output_type": "execute_result"
    }
   ],
   "source": [
    "len('https://en.wikipedia.org/wiki/')"
   ]
  },
  {
   "cell_type": "code",
   "execution_count": 70,
   "metadata": {},
   "outputs": [
    {
     "data": {
      "text/plain": [
       "'Nicola_Pisano'"
      ]
     },
     "execution_count": 70,
     "metadata": {},
     "output_type": "execute_result"
    }
   ],
   "source": [
    "url = df['Wikipedia-URL'][3]\n",
    "url[30:]"
   ]
  },
  {
   "cell_type": "code",
   "execution_count": 72,
   "metadata": {},
   "outputs": [],
   "source": [
    "names = list()\n",
    "for i in range(len(df)):\n",
    "    url = df['Wikipedia-URL'][i]\n",
    "    names.append(url[30:])\n",
    "    #print(url[30:])"
   ]
  },
  {
   "cell_type": "code",
   "execution_count": 73,
   "metadata": {},
   "outputs": [
    {
     "data": {
      "text/html": [
       "<div>\n",
       "<style scoped>\n",
       "    .dataframe tbody tr th:only-of-type {\n",
       "        vertical-align: middle;\n",
       "    }\n",
       "\n",
       "    .dataframe tbody tr th {\n",
       "        vertical-align: top;\n",
       "    }\n",
       "\n",
       "    .dataframe thead th {\n",
       "        text-align: right;\n",
       "    }\n",
       "</style>\n",
       "<table border=\"1\" class=\"dataframe\">\n",
       "  <thead>\n",
       "    <tr style=\"text-align: right;\">\n",
       "      <th></th>\n",
       "      <th>Name</th>\n",
       "      <th>Wikidata-Q-ID</th>\n",
       "      <th>Wikipedia-URL</th>\n",
       "      <th>URL-names</th>\n",
       "    </tr>\n",
       "  </thead>\n",
       "  <tbody>\n",
       "    <tr>\n",
       "      <th>0</th>\n",
       "      <td>Cimabue</td>\n",
       "      <td>Q15790</td>\n",
       "      <td>https://en.wikipedia.org/wiki/Cimabue</td>\n",
       "      <td>Cimabue</td>\n",
       "    </tr>\n",
       "    <tr>\n",
       "      <th>1</th>\n",
       "      <td>Arnolfo di Lapo</td>\n",
       "      <td>Q315249</td>\n",
       "      <td>https://en.wikipedia.org/wiki/Arnolfo_di_Cambio</td>\n",
       "      <td>Arnolfo_di_Cambio</td>\n",
       "    </tr>\n",
       "    <tr>\n",
       "      <th>2</th>\n",
       "      <td>Bonanno</td>\n",
       "      <td>Q892084</td>\n",
       "      <td>https://en.wikipedia.org/wiki/Bonanno_Pisano</td>\n",
       "      <td>Bonanno_Pisano</td>\n",
       "    </tr>\n",
       "    <tr>\n",
       "      <th>3</th>\n",
       "      <td>Nicola Pisano</td>\n",
       "      <td>Q364413</td>\n",
       "      <td>https://en.wikipedia.org/wiki/Nicola_Pisano</td>\n",
       "      <td>Nicola_Pisano</td>\n",
       "    </tr>\n",
       "    <tr>\n",
       "      <th>4</th>\n",
       "      <td>Giovanni Pisano</td>\n",
       "      <td>Q314932</td>\n",
       "      <td>https://en.wikipedia.org/wiki/Giovanni_Pisano</td>\n",
       "      <td>Giovanni_Pisano</td>\n",
       "    </tr>\n",
       "    <tr>\n",
       "      <th>...</th>\n",
       "      <td>...</td>\n",
       "      <td>...</td>\n",
       "      <td>...</td>\n",
       "      <td>...</td>\n",
       "    </tr>\n",
       "    <tr>\n",
       "      <th>287</th>\n",
       "      <td>Dono Doni</td>\n",
       "      <td>Q714914</td>\n",
       "      <td>https://en.wikipedia.org/wiki/Dono_Doni</td>\n",
       "      <td>Dono_Doni</td>\n",
       "    </tr>\n",
       "    <tr>\n",
       "      <th>288</th>\n",
       "      <td>Cesare Nebbia</td>\n",
       "      <td>Q503575</td>\n",
       "      <td>https://en.wikipedia.org/wiki/Cesare_Nebbia</td>\n",
       "      <td>Cesare_Nebbia</td>\n",
       "    </tr>\n",
       "    <tr>\n",
       "      <th>289</th>\n",
       "      <td>Niccolò Circignani detto il Pomarancio</td>\n",
       "      <td>Q382762</td>\n",
       "      <td>https://en.wikipedia.org/wiki/Niccol%C3%B2_Cir...</td>\n",
       "      <td>Niccol%C3%B2_Circignani</td>\n",
       "    </tr>\n",
       "    <tr>\n",
       "      <th>290</th>\n",
       "      <td>Bronzino</td>\n",
       "      <td>Q7803</td>\n",
       "      <td>https://en.wikipedia.org/wiki/Bronzino</td>\n",
       "      <td>Bronzino</td>\n",
       "    </tr>\n",
       "    <tr>\n",
       "      <th>291</th>\n",
       "      <td>Giorgio Vasari</td>\n",
       "      <td>Q128027</td>\n",
       "      <td>https://en.wikipedia.org/wiki/Giorgio_Vasari</td>\n",
       "      <td>Giorgio_Vasari</td>\n",
       "    </tr>\n",
       "  </tbody>\n",
       "</table>\n",
       "<p>292 rows × 4 columns</p>\n",
       "</div>"
      ],
      "text/plain": [
       "                                       Name Wikidata-Q-ID  \\\n",
       "0                                   Cimabue        Q15790   \n",
       "1                           Arnolfo di Lapo       Q315249   \n",
       "2                                   Bonanno       Q892084   \n",
       "3                             Nicola Pisano       Q364413   \n",
       "4                           Giovanni Pisano       Q314932   \n",
       "..                                      ...           ...   \n",
       "287                               Dono Doni       Q714914   \n",
       "288                           Cesare Nebbia       Q503575   \n",
       "289  Niccolò Circignani detto il Pomarancio       Q382762   \n",
       "290                                Bronzino         Q7803   \n",
       "291                          Giorgio Vasari       Q128027   \n",
       "\n",
       "                                         Wikipedia-URL  \\\n",
       "0                https://en.wikipedia.org/wiki/Cimabue   \n",
       "1      https://en.wikipedia.org/wiki/Arnolfo_di_Cambio   \n",
       "2         https://en.wikipedia.org/wiki/Bonanno_Pisano   \n",
       "3          https://en.wikipedia.org/wiki/Nicola_Pisano   \n",
       "4        https://en.wikipedia.org/wiki/Giovanni_Pisano   \n",
       "..                                                 ...   \n",
       "287            https://en.wikipedia.org/wiki/Dono_Doni   \n",
       "288        https://en.wikipedia.org/wiki/Cesare_Nebbia   \n",
       "289  https://en.wikipedia.org/wiki/Niccol%C3%B2_Cir...   \n",
       "290             https://en.wikipedia.org/wiki/Bronzino   \n",
       "291       https://en.wikipedia.org/wiki/Giorgio_Vasari   \n",
       "\n",
       "                   URL-names  \n",
       "0                    Cimabue  \n",
       "1          Arnolfo_di_Cambio  \n",
       "2             Bonanno_Pisano  \n",
       "3              Nicola_Pisano  \n",
       "4            Giovanni_Pisano  \n",
       "..                       ...  \n",
       "287                Dono_Doni  \n",
       "288            Cesare_Nebbia  \n",
       "289  Niccol%C3%B2_Circignani  \n",
       "290                 Bronzino  \n",
       "291           Giorgio_Vasari  \n",
       "\n",
       "[292 rows x 4 columns]"
      ]
     },
     "execution_count": 73,
     "metadata": {},
     "output_type": "execute_result"
    }
   ],
   "source": [
    "df['URL-names'] = names\n",
    "df"
   ]
  },
  {
   "cell_type": "markdown",
   "metadata": {},
   "source": [
    "# SAVE df as 'artist_qid.csv'"
   ]
  },
  {
   "cell_type": "code",
   "execution_count": 4,
   "metadata": {},
   "outputs": [],
   "source": [
    "# save again as csv\n",
    "\n",
    "filename = 'artist_qid.csv'\n",
    "#df.to_csv(filename, index = False, header=True)"
   ]
  },
  {
   "cell_type": "markdown",
   "metadata": {},
   "source": [
    "# load wikipedia api json files for getting the summaries"
   ]
  },
  {
   "cell_type": "code",
   "execution_count": 76,
   "metadata": {},
   "outputs": [],
   "source": [
    "url_base = 'https://en.wikipedia.org/api/rest_v1/page/summary/'"
   ]
  },
  {
   "cell_type": "code",
   "execution_count": 77,
   "metadata": {},
   "outputs": [
    {
     "data": {
      "text/plain": [
       "'https://en.wikipedia.org/api/rest_v1/page/summary/Andrea_Tafi_(artist)'"
      ]
     },
     "execution_count": 77,
     "metadata": {},
     "output_type": "execute_result"
    }
   ],
   "source": [
    "url = url_base + df['URL-names'][5]\n",
    "url"
   ]
  },
  {
   "cell_type": "markdown",
   "metadata": {},
   "source": [
    "#### test with a single URL"
   ]
  },
  {
   "cell_type": "code",
   "execution_count": 110,
   "metadata": {},
   "outputs": [
    {
     "data": {
      "text/plain": [
       "'Andrea Tafi (1213–1294) was an Italian artist. He is probably best known for his work on the mosaics of the Baptistery in Florence, which were started in 1225 by Jacobus. His pupils included Buonamico Buffalmacco.'"
      ]
     },
     "execution_count": 110,
     "metadata": {},
     "output_type": "execute_result"
    }
   ],
   "source": [
    "    response = urllib.request.urlopen(url) \n",
    "    webContent = response.read()\n",
    "    #str(webContent).find('extract') # 1342\n",
    "    my_json = webContent.decode('utf8')\n",
    "    data = json.loads(my_json)\n",
    "    data['extract']"
   ]
  },
  {
   "cell_type": "markdown",
   "metadata": {},
   "source": [
    "### build iterator for summary extraction"
   ]
  },
  {
   "cell_type": "code",
   "execution_count": 112,
   "metadata": {},
   "outputs": [
    {
     "data": {
      "text/plain": [
       "292"
      ]
     },
     "execution_count": 112,
     "metadata": {},
     "output_type": "execute_result"
    }
   ],
   "source": [
    "url_base = 'https://en.wikipedia.org/api/rest_v1/page/summary/'\n",
    "\n",
    "extract_list = list() # list to store all the summaries\n",
    "\n",
    "for i in range(len(df)):\n",
    "    url = url_base + df['URL-names'][i]  # store url\n",
    "    response = urllib.request.urlopen(url) # load url\n",
    "    webContent = response.read()             # get html\n",
    "    my_json = webContent.decode('utf8')       # decode utf-8\n",
    "    data = json.loads(my_json)                  # load json\n",
    "    extract = data['extract']                     # get summary\n",
    "    extract_list.append(extract)   \n",
    "len(extract_list)"
   ]
  },
  {
   "cell_type": "code",
   "execution_count": 119,
   "metadata": {},
   "outputs": [],
   "source": [
    "# append new column 'Summary' to the dataframe\n",
    "df['Summary'] = extract_list\n",
    "#df"
   ]
  },
  {
   "cell_type": "markdown",
   "metadata": {},
   "source": [
    "### build iterator for complete Wikipedia json strings"
   ]
  },
  {
   "cell_type": "code",
   "execution_count": 121,
   "metadata": {},
   "outputs": [
    {
     "data": {
      "text/plain": [
       "292"
      ]
     },
     "execution_count": 121,
     "metadata": {},
     "output_type": "execute_result"
    }
   ],
   "source": [
    "url_base = 'https://en.wikipedia.org/api/rest_v1/page/summary/'\n",
    "\n",
    "json_list = list() # list to store all the jsons\n",
    "\n",
    "for i in range(len(df)):\n",
    "    url = url_base + df['URL-names'][i]\n",
    "    response = urllib.request.urlopen(url) \n",
    "    webContent = response.read()\n",
    "    my_json = webContent.decode('utf8')       # decode utf-8\n",
    "    data = json.loads(my_json)                      # load json\n",
    "    json_list.append(data)\n",
    "len(json_list)"
   ]
  },
  {
   "cell_type": "code",
   "execution_count": 168,
   "metadata": {},
   "outputs": [],
   "source": [
    "# append new column 'Wikipedia-json' to the dataframe\n",
    "df['Wikipedia-json'] = json_list\n",
    "#df"
   ]
  },
  {
   "cell_type": "markdown",
   "metadata": {},
   "source": [
    "### make df_fullWiki as a normalized dataframe "
   ]
  },
  {
   "cell_type": "code",
   "execution_count": 141,
   "metadata": {},
   "outputs": [],
   "source": [
    "# make new NORMALIZED dataframe from the json lists\n",
    "df_fullWiki = pd.json_normalize((json_list))\n",
    "#df_fullWiki"
   ]
  },
  {
   "cell_type": "code",
   "execution_count": 142,
   "metadata": {},
   "outputs": [],
   "source": [
    "# save df_fullWiki as csv\n",
    "filename = 'Wikipedia_json-list.csv'\n",
    "df_fullWiki.to_csv(filename, index = False, header=True)"
   ]
  },
  {
   "cell_type": "code",
   "execution_count": 136,
   "metadata": {},
   "outputs": [],
   "source": [
    "column_list = df_fullWiki.columns.to_list()\n",
    "#column_list"
   ]
  },
  {
   "cell_type": "markdown",
   "metadata": {},
   "source": [
    "### include originalimage and thumbnail from df_fullWiki in df"
   ]
  },
  {
   "cell_type": "code",
   "execution_count": 140,
   "metadata": {},
   "outputs": [],
   "source": [
    "# include new columns in original dataframe df\n",
    "df['image'] = df_fullWiki['originalimage.source']\n",
    "df['thumbnail'] = df_fullWiki['thumbnail.source']\n",
    "#df"
   ]
  },
  {
   "cell_type": "markdown",
   "metadata": {},
   "source": [
    "# Iterator for WIKIDATA API to get jsons"
   ]
  },
  {
   "cell_type": "markdown",
   "metadata": {},
   "source": [
    "### extracting year of birth (via P569)"
   ]
  },
  {
   "cell_type": "code",
   "execution_count": null,
   "metadata": {},
   "outputs": [],
   "source": [
    "# if there are more than one value given, take the average \n",
    "url_base1 = 'https://www.wikidata.org/w/api.php?action=wbgetclaims&format=json&entity=' # wikidata API\n",
    "url_base2 = '&property=P569' # API property for birth\n",
    "\n",
    "birth_list = list() # list to store all the jsons\n",
    "for i in range(len(df)):\n",
    "    \n",
    "    url = url_base1 + df['Wikidata-Q-ID'][i] + url_base2 # get url\n",
    "    response = urllib.request.urlopen(url)     # load url\n",
    "    webContent = response.read()               # get html\n",
    "    my_json = webContent.decode('utf8')       # decode utf-8\n",
    "    data = json.loads(my_json)                # load json\n",
    "    df_first = pd.json_normalize((data['claims']))   # normalize json\n",
    "    if df_first.empty:                               # no value?\n",
    "        birth = 9999\n",
    "    else:\n",
    "        df_second = pd.json_normalize(df_first['P569'][0]) # unravel nested json\n",
    "        if len(df_second.columns) < 8:\n",
    "            birth = 9999\n",
    "        elif len(df_second) == 1:\n",
    "            birth = df_second['mainsnak.datavalue.value.time'][0][1:5]\n",
    "        else:\n",
    "            year = 0\n",
    "            for k in range(len(df_second)):\n",
    "                year += int(df_second['mainsnak.datavalue.value.time'][k][1:5])\n",
    "                birth = round(year/len(df_second))\n",
    "                   \n",
    "    birth_list.append(int(birth))   # store value in list\n",
    "    print(birth)   \n",
    "#len(birth_list)"
   ]
  },
  {
   "cell_type": "markdown",
   "metadata": {},
   "source": [
    "### extracting year of death (via P570)"
   ]
  },
  {
   "cell_type": "code",
   "execution_count": null,
   "metadata": {},
   "outputs": [],
   "source": [
    "# if there are more than one value given, take the average\n",
    "url_base1 = 'https://www.wikidata.org/w/api.php?action=wbgetclaims&format=json&entity='\n",
    "url_base2 = '&property=P570'\n",
    "death_list = list() # list to store all the jsons\n",
    "for i in range(len(df)):    \n",
    "    url = url_base1 + df['Wikidata-Q-ID'][i] + url_base2    \n",
    "    response = urllib.request.urlopen(url)     \n",
    "    webContent = response.read()\n",
    "    my_json = webContent.decode('utf8')       # decode utf-8\n",
    "    data = json.loads(my_json)\n",
    "    df_first = pd.json_normalize((data['claims']))\n",
    "    if df_first.empty:\n",
    "        death = 9999\n",
    "    else:\n",
    "        df_second = pd.json_normalize(df_first['P570'][0])\n",
    "        if len(df_second.columns) < 8:\n",
    "            death = 9999\n",
    "        elif len(df_second) == 1:\n",
    "            death = df_second['mainsnak.datavalue.value.time'][0][1:5]\n",
    "        else:\n",
    "            year = 0\n",
    "            for k in range(len(df_second)):\n",
    "                year += int(df_second['mainsnak.datavalue.value.time'][k][1:5])\n",
    "                death = round(year/len(df_second))                   \n",
    "    death_list.append(int(death))\n",
    "    print(death)   \n",
    "#len(birth_list)"
   ]
  },
  {
   "cell_type": "markdown",
   "metadata": {},
   "source": [
    "### calculate position in timeline"
   ]
  },
  {
   "cell_type": "code",
   "execution_count": null,
   "metadata": {},
   "outputs": [],
   "source": [
    "#calculate the position in timeline by the middle between birth & death\n",
    "timeline_position = list()\n",
    "for i in range(len(birth_list)):\n",
    "    position = (death_list[i] + birth_list[i]) / 2\n",
    "    timeline_position.append(round(position))\n",
    "timeline_position    "
   ]
  },
  {
   "cell_type": "markdown",
   "metadata": {},
   "source": [
    "### get VIAF Identifier from Wikidata (via P214)"
   ]
  },
  {
   "cell_type": "code",
   "execution_count": null,
   "metadata": {},
   "outputs": [],
   "source": [
    "# extract the years from the list\n",
    "# if there are more than one value given, take the average!\n",
    "\n",
    "url_base1 = 'https://www.wikidata.org/w/api.php?action=wbgetclaims&format=json&entity='\n",
    "url_base2 = '&property=P214'\n",
    "\n",
    "VIAF_list = list() # list to store all the jsons\n",
    "\n",
    "for i in range(len(df)):    \n",
    "    url = url_base1 + df['Wikidata-Q-ID'][i] + url_base2    \n",
    "    response = urllib.request.urlopen(url)     \n",
    "    webContent = response.read()\n",
    "    my_json = webContent.decode('utf8')       # decode utf-8\n",
    "    data = json.loads(my_json)\n",
    "    df_first = pd.json_normalize((data['claims']))\n",
    "    if df_first.empty:\n",
    "        VIAF = 0\n",
    "    else:\n",
    "        df_second = pd.json_normalize(df_first['P214'][0])\n",
    "        if len(df_second.columns) < 5:\n",
    "            VIAF = 0\n",
    "        else:\n",
    "            VIAF = df_second['mainsnak.datavalue.value'][0]             \n",
    "                    \n",
    "    VIAF_list.append(int(VIAF))\n",
    "    #print(VIAF, 'index: ', (i))    \n",
    "#len(birth_list)"
   ]
  },
  {
   "cell_type": "markdown",
   "metadata": {},
   "source": [
    "#### add birth, death, timeline position and VIAF to df"
   ]
  },
  {
   "cell_type": "code",
   "execution_count": 278,
   "metadata": {},
   "outputs": [],
   "source": [
    "df['birth'] = birth_list\n",
    "df['death'] = death_list\n",
    "df['timeline_position'] = timeline_position\n",
    "df['VIAF'] = VIAF_list\n",
    "#df"
   ]
  },
  {
   "cell_type": "code",
   "execution_count": 293,
   "metadata": {},
   "outputs": [],
   "source": [
    "# save as csv\n",
    "filename = 'artist_qid.csv'\n",
    "df.to_csv(filename, index = False, header=True)"
   ]
  },
  {
   "cell_type": "markdown",
   "metadata": {},
   "source": [
    "# Download thumbnail images"
   ]
  },
  {
   "cell_type": "markdown",
   "metadata": {},
   "source": [
    "#### open new Image squared size, paste the thumbnail and save as 'portrait_xxx.jpg'"
   ]
  },
  {
   "cell_type": "code",
   "execution_count": 6,
   "metadata": {},
   "outputs": [],
   "source": [
    "# test with one file [8] Giotto\n",
    "# open thumbnail, get width, height\n",
    "img = Image.open(urlopen(df['thumbnail'][8]))\n",
    "width, height = img.size"
   ]
  },
  {
   "cell_type": "code",
   "execution_count": 7,
   "metadata": {},
   "outputs": [
    {
     "data": {
      "image/png": "[encoded data removed]",
      "text/plain": [
       "<PIL.JpegImagePlugin.JpegImageFile image mode=RGB size=250x320 at 0x7FFE80E9DCD0>"
      ]
     },
     "execution_count": 7,
     "metadata": {},
     "output_type": "execute_result"
    }
   ],
   "source": [
    "img"
   ]
  },
  {
   "cell_type": "code",
   "execution_count": 8,
   "metadata": {},
   "outputs": [
    {
     "data": {
      "text/plain": [
       "320"
      ]
     },
     "execution_count": 8,
     "metadata": {},
     "output_type": "execute_result"
    }
   ],
   "source": [
    "# store the bigger one in s\n",
    "\n",
    "if width < height:\n",
    "    s = height\n",
    "else:\n",
    "    s = width\n",
    "s"
   ]
  },
  {
   "cell_type": "code",
   "execution_count": 320,
   "metadata": {},
   "outputs": [],
   "source": [
    "# create empty Image file in thumbnail size squared\n",
    "index = '008'\n",
    "\n",
    "new_img = Image.new('RGB', (s, s))\n",
    "\n",
    "new_img.paste(img, (0, 0))\n",
    "new_img.save('./thumbnails/cables/thumbnail_' + index + '.jpg')"
   ]
  },
  {
   "cell_type": "markdown",
   "metadata": {},
   "source": [
    "## build iterator for thumbnail download "
   ]
  },
  {
   "cell_type": "code",
   "execution_count": 48,
   "metadata": {},
   "outputs": [
    {
     "data": {
      "text/plain": [
       "286"
      ]
     },
     "execution_count": 48,
     "metadata": {},
     "output_type": "execute_result"
    }
   ],
   "source": [
    "#index = 158\n",
    "index"
   ]
  },
  {
   "cell_type": "code",
   "execution_count": null,
   "metadata": {},
   "outputs": [],
   "source": [
    "# open thumbnail, get width, height\n",
    "\n",
    "# limit the iterator (8 per call)\n",
    "\n",
    "for i in range(8):\n",
    "    # load file\n",
    "    index += 1\n",
    "    if isnan(df['thumbnail'][(int(index))]): # sort nan values out\n",
    "        continue\n",
    "        \n",
    "    else:\n",
    "        img = Image.open(urlopen(df['thumbnail'][(int(index))]))\n",
    "        width, height = img.size\n",
    "        # store the bigger one in s\n",
    "        if width < height:\n",
    "            s = height\n",
    "        else:\n",
    "            s = width\n",
    "        \n",
    "        # create empty Image file in thumbnail size squared\n",
    "        new_img = Image.new('RGBA', (s,s), (255, 0, 0, 0))\n",
    "        #new_img = Image.new('RGB', (s, s))\n",
    "        new_img.paste(img, (s-width, 0))\n",
    "    \n",
    "        # filename\n",
    "        if index < 10:\n",
    "            filename = './thumbnails/cables/thumbnails/thumbnail_00' + str(index) + '.png'\n",
    "        elif index < 100:\n",
    "            filename = './thumbnails/cables/thumbnails/thumbnail_0' + str(index) + '.png'\n",
    "        else:\n",
    "            filename = './thumbnails/cables/thumbnails/thumbnail_' + str(index) + '.png'\n",
    "        \n",
    "        new_img.save(filename, 'PNG')   "
   ]
  },
  {
   "cell_type": "code",
   "execution_count": 52,
   "metadata": {},
   "outputs": [
    {
     "data": {
      "image/png": "[encoded data removed]",
      "text/plain": [
       "<PIL.JpegImagePlugin.JpegImageFile image mode=L size=320x217 at 0x7FFE836B7BE0>"
      ]
     },
     "execution_count": 52,
     "metadata": {},
     "output_type": "execute_result"
    }
   ],
   "source": [
    "img = Image.open(urlopen(df['thumbnail'][index-10]))\n",
    "img"
   ]
  },
  {
   "cell_type": "markdown",
   "metadata": {},
   "source": [
    "## build iterator for image download "
   ]
  },
  {
   "cell_type": "code",
   "execution_count": 498,
   "metadata": {},
   "outputs": [
    {
     "data": {
      "text/plain": [
       "-1"
      ]
     },
     "execution_count": 498,
     "metadata": {},
     "output_type": "execute_result"
    }
   ],
   "source": [
    "index = -1\n",
    "index"
   ]
  },
  {
   "cell_type": "code",
   "execution_count": 499,
   "metadata": {},
   "outputs": [],
   "source": [
    "# open thumbnail, get width, height\n",
    "\n",
    "# limit the iterator (10 per call)\n",
    "\n",
    "for i in range(10):\n",
    "    \n",
    "    # load file by index\n",
    "    index += 1\n",
    "    \n",
    "    if isnan(df['image'][(int(index))]): # sort nan values out\n",
    "        continue\n",
    "        \n",
    "    else:\n",
    "        img = Image.open(urlopen(df['image'][(int(index))]))\n",
    "        width, height = img.size\n",
    "        # store the bigger one in s\n",
    "        if width < height:\n",
    "            s = height\n",
    "        else:\n",
    "            s = width\n",
    "        \n",
    "        # create empty Image file in thumbnail size squared\n",
    "        new_img = Image.new('RGBA', (s, s), (255, 0, 0, 0))\n",
    "        new_img.paste(img, (s-width, 0))\n",
    "    \n",
    "        # filename\n",
    "        if index < 10:\n",
    "            filename = './thumbnails/cables/images/image_00' + str(index) + '.png'\n",
    "        elif index < 100:\n",
    "            filename = './thumbnails/cables/images/image_0' + str(index) + '.png'\n",
    "        else:\n",
    "            filename = './thumbnails/cables/images/image_' + str(index) + '.png'\n",
    "        \n",
    "        new_img.save(filename, 'PNG')  "
   ]
  },
  {
   "cell_type": "markdown",
   "metadata": {},
   "source": [
    "## test to fix the black padding"
   ]
  },
  {
   "cell_type": "code",
   "execution_count": 482,
   "metadata": {},
   "outputs": [
    {
     "data": {
      "image/png": "[encoded data removed]",
      "text/plain": [
       "<PIL.Image.Image image mode=RGBA size=319x319 at 0x7FF728651FD0>"
      ]
     },
     "execution_count": 482,
     "metadata": {},
     "output_type": "execute_result"
    }
   ],
   "source": [
    "        width, height = img.size\n",
    "        # store the bigger one in s\n",
    "        if width < height:\n",
    "            s = height\n",
    "            \n",
    "        else:\n",
    "            s = width\n",
    "        \n",
    "        # create empty Image file in thumbnail size squared\n",
    "        new_img = Image.new('RGBA', (s,s), (255, 0, 0, 0))        \n",
    "        new_img.paste(img, (s-width, 0))\n",
    "\n",
    "        new_img\n",
    "        \n",
    "        filename = 'a_test_291.png'\n",
    "\n",
    "        new_img.save(filename, 'PNG')\n",
    "        #width"
   ]
  },
  {
   "cell_type": "code",
   "execution_count": 408,
   "metadata": {},
   "outputs": [
    {
     "data": {
      "image/png": "[encoded data removed]",
      "text/plain": [
       "<PIL.JpegImagePlugin.JpegImageFile image mode=RGB size=229x320 at 0x7FF72864C2B0>"
      ]
     },
     "execution_count": 408,
     "metadata": {},
     "output_type": "execute_result"
    }
   ],
   "source": [
    "img"
   ]
  },
  {
   "cell_type": "code",
   "execution_count": 367,
   "metadata": {},
   "outputs": [],
   "source": [
    "#df"
   ]
  },
  {
   "cell_type": "markdown",
   "metadata": {},
   "source": [
    "### make .txt files for cables"
   ]
  },
  {
   "cell_type": "code",
   "execution_count": 371,
   "metadata": {},
   "outputs": [],
   "source": [
    "names = ''\n",
    "for i in df['Name']:\n",
    "    names+=i+','\n",
    "    \n",
    "names = names.strip(',')"
   ]
  },
  {
   "cell_type": "code",
   "execution_count": 372,
   "metadata": {},
   "outputs": [],
   "source": [
    "position = ''\n",
    "for i in df['timeline_position']:\n",
    "    position+=str(i) +','\n",
    "    \n",
    "position = position.strip(',')"
   ]
  },
  {
   "cell_type": "code",
   "execution_count": null,
   "metadata": {},
   "outputs": [],
   "source": [
    "cloudinary = ''\n",
    "for i in df['cloudinary thumbnails']:\n",
    "    cloudinary +=str(i) +','\n",
    "    \n",
    "cloudinary = cloudinary.strip(',')\n",
    "cloudinary"
   ]
  },
  {
   "cell_type": "code",
   "execution_count": 510,
   "metadata": {},
   "outputs": [],
   "source": [
    "#cables_path = \"/assets/609d91f2a3afde33db68c585/thumbnail_00\"\n",
    "index2 = 0\n",
    "filename_list = ''\n",
    "\n",
    "for i in range(292):\n",
    "    \n",
    "    if index2 < 10:\n",
    "        filename = \"/assets/609d91f2a3afde33db68c585/thumbnail_00\" + str(index2) + '.png'\n",
    "    elif index2 < 100:\n",
    "        filename = \"/assets/609d91f2a3afde33db68c585/thumbnail_0\" + str(index2) + '.png'\n",
    "    else:\n",
    "        filename = \"/assets/609d91f2a3afde33db68c585/thumbnail_\" + str(index2) + '.png'\n",
    "    index2+=1\n",
    "    filename_list += filename + ',\\n'\n",
    "#filename_list"
   ]
  },
  {
   "cell_type": "code",
   "execution_count": 373,
   "metadata": {},
   "outputs": [],
   "source": [
    "death = ''\n",
    "for i in df['death']:\n",
    "    death+=str(i)+','\n",
    "    \n",
    "death = death.strip(',')"
   ]
  },
  {
   "cell_type": "code",
   "execution_count": 374,
   "metadata": {},
   "outputs": [],
   "source": [
    "birth = ''\n",
    "for i in df['birth']:\n",
    "    birth+=str(i)+','\n",
    "    \n",
    "birth = birth.strip(',')"
   ]
  },
  {
   "cell_type": "code",
   "execution_count": 375,
   "metadata": {},
   "outputs": [],
   "source": [
    "summary = ''\n",
    "for i in df['Summary']:\n",
    "    summary+=i+'§\\n'\n",
    "    \n",
    "summary = summary.strip(',')"
   ]
  },
  {
   "cell_type": "markdown",
   "metadata": {},
   "source": [
    "### save names, summaries, positions, birth and death as .txt"
   ]
  },
  {
   "cell_type": "code",
   "execution_count": 376,
   "metadata": {},
   "outputs": [],
   "source": [
    "f = open('./thumbnails/names.txt', 'wb') # names\n",
    "f.write(names.encode(\"utf-8\"))\n",
    "f.close()"
   ]
  },
  {
   "cell_type": "code",
   "execution_count": 377,
   "metadata": {},
   "outputs": [],
   "source": [
    "f = open('./thumbnails/summary.txt', 'wb') # summary\n",
    "f.write(summary.encode(\"utf-8\"))\n",
    "f.close()"
   ]
  },
  {
   "cell_type": "code",
   "execution_count": 49,
   "metadata": {},
   "outputs": [],
   "source": [
    "f = open('./thumbnails/cloudinary.txt', 'wb') # thumbnails cloudinary\n",
    "f.write(cloudinary.encode(\"utf-8\"))\n",
    "f.close()"
   ]
  },
  {
   "cell_type": "code",
   "execution_count": 581,
   "metadata": {},
   "outputs": [],
   "source": [
    "f = open('./thumbnails/position.txt', 'wb') # position\n",
    "f.write(str(storage).replace(' ', '').encode(\"utf-8\"))\n",
    "f.close()"
   ]
  },
  {
   "cell_type": "code",
   "execution_count": 558,
   "metadata": {},
   "outputs": [
    {
     "data": {
      "text/plain": [
       "292"
      ]
     },
     "execution_count": 558,
     "metadata": {},
     "output_type": "execute_result"
    }
   ],
   "source": [
    "#for i in str(storage):\n",
    "   # print(i)\n",
    "\n",
    "len(storage)"
   ]
  },
  {
   "cell_type": "code",
   "execution_count": 379,
   "metadata": {},
   "outputs": [],
   "source": [
    "f = open('./thumbnails/birth.txt', 'wb') # birth\n",
    "f.write(birth.encode(\"utf-8\"))\n",
    "f.close()"
   ]
  },
  {
   "cell_type": "code",
   "execution_count": 380,
   "metadata": {},
   "outputs": [],
   "source": [
    "f = open('./thumbnails/death.txt', 'wb') # death\n",
    "f.write(death.encode(\"utf-8\"))\n",
    "f.close()"
   ]
  },
  {
   "cell_type": "code",
   "execution_count": 511,
   "metadata": {},
   "outputs": [],
   "source": [
    "f = open('./thumbnails/thumbnails.txt', 'wb') # thumbnail filenames\n",
    "f.write(filename_list.encode(\"utf-8\"))\n",
    "f.close()"
   ]
  },
  {
   "cell_type": "markdown",
   "metadata": {},
   "source": [
    "## clean position in timeline\n",
    "### if a year already appeared +=1"
   ]
  },
  {
   "cell_type": "code",
   "execution_count": 133,
   "metadata": {},
   "outputs": [],
   "source": [
    "#position"
   ]
  },
  {
   "cell_type": "code",
   "execution_count": 579,
   "metadata": {},
   "outputs": [
    {
     "data": {
      "text/plain": [
       "292"
      ]
     },
     "execution_count": 579,
     "metadata": {},
     "output_type": "execute_result"
    }
   ],
   "source": [
    "storage = list()\n",
    "pos_list = position.split(',')\n",
    "\n",
    "for i in range(len(pos_list)):\n",
    "    x = int(pos_list[i])\n",
    "    if x == 9999:\n",
    "        storage.append(x)\n",
    "    elif x not in storage:\n",
    "        storage.append(x)\n",
    "        \n",
    "    else:\n",
    "        x -= 5\n",
    "        while x in storage:\n",
    "            x+=0.5\n",
    "        storage.append(x)   \n",
    "        \n",
    "len(storage)    "
   ]
  },
  {
   "cell_type": "code",
   "execution_count": 584,
   "metadata": {},
   "outputs": [
    {
     "name": "stdout",
     "output_type": "stream",
     "text": [
      " vs originial:  1271 1271\n",
      " vs originial:  1271 1266\n",
      " vs originial:  9999 9999\n",
      " vs originial:  1254 1254\n",
      " vs originial:  1282 1282\n",
      " vs originial:  1254 1249\n",
      " vs originial:  1276 1276\n",
      " vs originial:  1268 1268\n",
      " vs originial:  1304 1304\n",
      " vs originial:  1400 1400\n",
      " vs originial:  1316 1316\n",
      " vs originial:  1316 1311\n",
      " vs originial:  1326 1326\n",
      " vs originial:  1305 1305\n",
      " vs originial:  1314 1314\n",
      " vs originial:  1319 1319\n",
      " vs originial:  1308 1308\n",
      " vs originial:  1319 1314.5\n",
      " vs originial:  1285 1285\n",
      " vs originial:  1314 1309\n",
      " vs originial:  1324 1324\n",
      " vs originial:  1328 1328\n",
      " vs originial:  1341 1341\n",
      " vs originial:  1340 1340\n",
      " vs originial:  1412 1412\n",
      " vs originial:  1373 1373\n",
      " vs originial:  1400 1395\n",
      " vs originial:  1365 1365\n",
      " vs originial:  1287 1287\n",
      " vs originial:  1400 1395.5\n",
      " vs originial:  1326 1321\n",
      " vs originial:  1380 1380\n",
      " vs originial:  1384 1384\n",
      " vs originial:  1324 1319.5\n",
      " vs originial:  1398 1398\n",
      " vs originial:  1392 1392\n",
      " vs originial:  1388 1388\n",
      " vs originial:  1412 1407\n",
      " vs originial:  1453 1453\n",
      " vs originial:  1406 1406\n",
      " vs originial:  1410 1410\n",
      " vs originial:  1446 1446\n",
      " vs originial:  1400 1396.0\n",
      " vs originial:  1440 1440\n",
      " vs originial:  1480 1480\n",
      " vs originial:  1527 1527\n",
      " vs originial:  1436 1436\n",
      " vs originial:  1416 1416\n",
      " vs originial:  1410 1405\n",
      " vs originial:  1415 1415\n",
      " vs originial:  1420 1420\n",
      " vs originial:  1414 1414\n",
      " vs originial:  1411 1411\n",
      " vs originial:  1426 1426\n",
      " vs originial:  1434 1434\n",
      " vs originial:  1439 1439\n",
      " vs originial:  1434 1429\n",
      " vs originial:  1448 1448\n",
      " vs originial:  1461 1461\n",
      " vs originial:  1454 1454\n",
      " vs originial:  1424 1424\n",
      " vs originial:  1454 1449\n",
      " vs originial:  1487 1487\n",
      " vs originial:  1438 1438\n",
      " vs originial:  1434 1429.5\n",
      " vs originial:  1454 1449.5\n",
      " vs originial:  1462 1462\n",
      " vs originial:  1466 1466\n",
      " vs originial:  1438 1433\n",
      " vs originial:  1465 1465\n",
      " vs originial:  1468 1468\n",
      " vs originial:  1458 1458\n",
      " vs originial:  9999 9999\n",
      " vs originial:  1468 1463\n",
      " vs originial:  1472 1472\n",
      " vs originial:  1438 1433.5\n",
      " vs originial:  1436 1431\n",
      " vs originial:  1395 1390\n",
      " vs originial:  1425 1425\n",
      " vs originial:  1376 1376\n",
      " vs originial:  1440 1435\n",
      " vs originial:  1458 1453.5\n",
      " vs originial:  1466 1461.5\n",
      " vs originial:  1470 1470\n",
      " vs originial:  1446 1441\n",
      " vs originial:  1448 1443\n",
      " vs originial:  1462 1457\n",
      " vs originial:  1453 1448.5\n",
      " vs originial:  1436 1431.5\n",
      " vs originial:  1447 1447\n",
      " vs originial:  1456 1456\n",
      " vs originial:  1498 1498\n",
      " vs originial:  1504 1504\n",
      " vs originial:  1474 1474\n",
      " vs originial:  1434 1430.0\n",
      " vs originial:  1473 1473\n",
      " vs originial:  1468 1463.5\n",
      " vs originial:  1480 1475\n",
      " vs originial:  1514 1514\n",
      " vs originial:  1473 1468.5\n",
      " vs originial:  1467 1467\n",
      " vs originial:  1475 1470.5\n",
      " vs originial:  1477 1477\n",
      " vs originial:  1471 1471\n",
      " vs originial:  1471 1466.5\n",
      " vs originial:  1478 1478\n",
      " vs originial:  1488 1488\n",
      " vs originial:  1486 1486\n",
      " vs originial:  1464 1464\n",
      " vs originial:  1469 1469\n",
      " vs originial:  1445 1445\n",
      " vs originial:  1478 1473.5\n",
      " vs originial:  1470 1465.5\n",
      " vs originial:  1462 1457.5\n",
      " vs originial:  1490 1490\n",
      " vs originial:  1535 1535\n",
      " vs originial:  1468 1464.5\n",
      " vs originial:  1480 1475.5\n",
      " vs originial:  1482 1482\n",
      " vs originial:  1466 1462.5\n",
      " vs originial:  1504 1499\n",
      " vs originial:  1484 1484\n",
      " vs originial:  1490 1485\n",
      " vs originial:  1486 1481\n",
      " vs originial:  1479 1479\n",
      " vs originial:  1526 1526\n",
      " vs originial:  1510 1510\n",
      " vs originial:  1500 1500\n",
      " vs originial:  1496 1496\n",
      " vs originial:  1412 1407.5\n",
      " vs originial:  1383 1383\n",
      " vs originial:  1360 1360\n",
      " vs originial:  1404 1404\n",
      " vs originial:  1340 1335\n",
      " vs originial:  1360 1355\n",
      " vs originial:  1471 1467.5\n",
      " vs originial:  1500 1495\n",
      " vs originial:  1488 1483\n",
      " vs originial:  1500 1495.5\n",
      " vs originial:  1470 1469.5\n",
      " vs originial:  1496 1491\n",
      " vs originial:  1492 1492\n",
      " vs originial:  1486 1481.5\n",
      " vs originial:  1492 1487.5\n",
      " vs originial:  1500 1496.5\n",
      " vs originial:  1494 1494\n",
      " vs originial:  1507 1507\n",
      " vs originial:  1526 1521\n",
      " vs originial:  1526 1521.5\n",
      " vs originial:  1488 1483.5\n",
      " vs originial:  1518 1518\n",
      " vs originial:  1522 1522\n",
      " vs originial:  1501 1501\n",
      " vs originial:  1483 1478.5\n",
      " vs originial:  1532 1532\n",
      " vs originial:  1486 1482.5\n",
      " vs originial:  1494 1489\n",
      " vs originial:  1512 1512\n",
      " vs originial:  1492 1488.5\n",
      " vs originial:  1479 1474.5\n",
      " vs originial:  1494 1489.5\n",
      " vs originial:  1494 1490.5\n",
      " vs originial:  1498 1493\n",
      " vs originial:  1500 1497.0\n",
      " vs originial:  1480 1476.0\n",
      " vs originial:  1494 1491.5\n",
      " vs originial:  1502 1502\n",
      " vs originial:  1500 1497.5\n",
      " vs originial:  1482 1477.5\n",
      " vs originial:  1488 1484.5\n",
      " vs originial:  1478 1476.5\n",
      " vs originial:  1510 1505\n",
      " vs originial:  1496 1492.5\n",
      " vs originial:  1511 1511\n",
      " vs originial:  1496 1493.5\n",
      " vs originial:  1498 1494.5\n",
      " vs originial:  1514 1509\n",
      " vs originial:  1502 1498.5\n",
      " vs originial:  1535 1530\n",
      " vs originial:  1498 1499.5\n",
      " vs originial:  1494 1500.5\n",
      " vs originial:  1516 1516\n",
      " vs originial:  1508 1508\n",
      " vs originial:  1492 1501.5\n",
      " vs originial:  1508 1503\n",
      " vs originial:  1508 1503.5\n",
      " vs originial:  1510 1505.5\n",
      " vs originial:  1556 1556\n",
      " vs originial:  1567 1567\n",
      " vs originial:  1580 1580\n",
      " vs originial:  1517 1517\n",
      " vs originial:  1535 1530.5\n",
      " vs originial:  1520 1520\n",
      " vs originial:  1511 1506\n",
      " vs originial:  1519 1519\n",
      " vs originial:  1512 1507.5\n",
      " vs originial:  1517 1512.5\n",
      " vs originial:  1518 1513\n",
      " vs originial:  1520 1515\n",
      " vs originial:  1521 1516.5\n",
      " vs originial:  1509 1504.5\n",
      " vs originial:  1513 1508.5\n",
      " vs originial:  1514 1509.5\n",
      " vs originial:  1504 1502.5\n",
      " vs originial:  1504 1506.5\n",
      " vs originial:  1522 1517.5\n",
      " vs originial:  1504 1510.5\n",
      " vs originial:  1518 1513.5\n",
      " vs originial:  1474 1471.5\n",
      " vs originial:  1506 1511.5\n",
      " vs originial:  1502 1514.5\n",
      " vs originial:  1507 1515.5\n",
      " vs originial:  1524 1524\n",
      " vs originial:  1516 1518.5\n",
      " vs originial:  1507 1519.5\n",
      " vs originial:  1515 1520.5\n",
      " vs originial:  1522 1522.5\n",
      " vs originial:  1516 1523.0\n",
      " vs originial:  1524 1523.5\n",
      " vs originial:  1518 1524.5\n",
      " vs originial:  1522 1525.0\n",
      " vs originial:  1514 1525.5\n",
      " vs originial:  1525 1526.5\n",
      " vs originial:  1542 1542\n",
      " vs originial:  1524 1527.5\n",
      " vs originial:  1514 1528.0\n",
      " vs originial:  1532 1528.5\n",
      " vs originial:  1526 1529.0\n",
      " vs originial:  1523 1529.5\n",
      " vs originial:  1514 1531.0\n",
      " vs originial:  1538 1538\n",
      " vs originial:  1530 1531.5\n",
      " vs originial:  1522 1532.5\n",
      " vs originial:  1558 1558\n",
      " vs originial:  1565 1565\n",
      " vs originial:  1513 1533.0\n",
      " vs originial:  1516 1533.5\n",
      " vs originial:  1520 1534.0\n",
      " vs originial:  1528 1534.5\n",
      " vs originial:  1496 1535.5\n",
      " vs originial:  1536 1536\n",
      " vs originial:  1522 1536.5\n",
      " vs originial:  1488 1485.5\n",
      " vs originial:  1478 1479.5\n",
      " vs originial:  1526 1537.0\n",
      " vs originial:  1536 1537.5\n",
      " vs originial:  1556 1551\n",
      " vs originial:  1540 1540\n",
      " vs originial:  1514 1538.5\n",
      " vs originial:  1535 1539.0\n",
      " vs originial:  1536 1539.5\n",
      " vs originial:  1548 1548\n",
      " vs originial:  1538 1540.5\n",
      " vs originial:  1548 1543\n",
      " vs originial:  1574 1574\n",
      " vs originial:  1520 1541.0\n",
      " vs originial:  1548 1543.5\n",
      " vs originial:  1544 1544\n",
      " vs originial:  1537 1541.5\n",
      " vs originial:  1561 1561\n",
      " vs originial:  1554 1554\n",
      " vs originial:  1540 1542.5\n",
      " vs originial:  1537 1544.5\n",
      " vs originial:  1550 1550\n",
      " vs originial:  1562 1562\n",
      " vs originial:  1544 1545.0\n",
      " vs originial:  1542 1545.5\n",
      " vs originial:  1557 1557\n",
      " vs originial:  1558 1553\n",
      " vs originial:  1560 1560\n",
      " vs originial:  1531 1546.0\n",
      " vs originial:  1551 1546.5\n",
      " vs originial:  1562 1557.5\n",
      " vs originial:  1523 1547.0\n",
      " vs originial:  1535 1547.5\n",
      " vs originial:  1528 1548.5\n",
      " vs originial:  1546 1549.0\n",
      " vs originial:  1566 1566\n",
      " vs originial:  1594 1594\n",
      " vs originial:  1542 1549.5\n",
      " vs originial:  1550 1550.5\n",
      " vs originial:  1542 1551.5\n",
      " vs originial:  1542 1552.0\n",
      " vs originial:  1538 1552.5\n",
      " vs originial:  9999 9999\n",
      " vs originial:  1548 1553.5\n",
      " vs originial:  1544 1554.5\n",
      " vs originial:  1538 1555.0\n",
      " vs originial:  1575 1575\n",
      " vs originial:  1557 1555.5\n",
      " vs originial:  1538 1556.5\n",
      " vs originial:  1542 1558.5\n"
     ]
    }
   ],
   "source": [
    "for i in range(len(storage)):\n",
    "    print(' vs originial: ' , pos_list[i], storage[i])"
   ]
  },
  {
   "cell_type": "code",
   "execution_count": 580,
   "metadata": {},
   "outputs": [],
   "source": [
    "#set(storage)"
   ]
  },
  {
   "cell_type": "markdown",
   "metadata": {},
   "source": [
    "# END"
   ]
  },
  {
   "cell_type": "code",
   "execution_count": 585,
   "metadata": {},
   "outputs": [],
   "source": [
    "import joblib"
   ]
  },
  {
   "cell_type": "code",
   "execution_count": 289,
   "metadata": {},
   "outputs": [
    {
     "data": {
      "text/plain": [
       "'https://www.wikidata.org/w/api.php?action=wbgetclaims&format=json&entity=Q892084&property=P214'"
      ]
     },
     "execution_count": 289,
     "metadata": {},
     "output_type": "execute_result"
    }
   ],
   "source": [
    "url = url_base1 + df['Wikidata-Q-ID'][2] + url_base2\n",
    "url"
   ]
  },
  {
   "cell_type": "code",
   "execution_count": 282,
   "metadata": {},
   "outputs": [
    {
     "data": {
      "text/plain": [
       "'https://www.wikidata.org/w/api.php?action=wbgetclaims&format=json&entity=Q128027&property=P214'"
      ]
     },
     "execution_count": 282,
     "metadata": {},
     "output_type": "execute_result"
    }
   ],
   "source": [
    "url_base1 = 'https://www.wikidata.org/w/api.php?action=wbgetclaims&format=json&entity='\n",
    "url_base2 = '&property=P214'\n",
    "Q = df['']\n",
    "url = url_base1 + Q + url_base2\n",
    "url"
   ]
  },
  {
   "cell_type": "code",
   "execution_count": 290,
   "metadata": {},
   "outputs": [
    {
     "data": {
      "text/html": [
       "<div>\n",
       "<style scoped>\n",
       "    .dataframe tbody tr th:only-of-type {\n",
       "        vertical-align: middle;\n",
       "    }\n",
       "\n",
       "    .dataframe tbody tr th {\n",
       "        vertical-align: top;\n",
       "    }\n",
       "\n",
       "    .dataframe thead th {\n",
       "        text-align: right;\n",
       "    }\n",
       "</style>\n",
       "<table border=\"1\" class=\"dataframe\">\n",
       "  <thead>\n",
       "    <tr style=\"text-align: right;\">\n",
       "      <th></th>\n",
       "      <th>type</th>\n",
       "      <th>id</th>\n",
       "      <th>rank</th>\n",
       "      <th>references</th>\n",
       "      <th>mainsnak.snaktype</th>\n",
       "      <th>mainsnak.property</th>\n",
       "      <th>mainsnak.hash</th>\n",
       "      <th>mainsnak.datavalue.value</th>\n",
       "      <th>mainsnak.datavalue.type</th>\n",
       "      <th>mainsnak.datatype</th>\n",
       "    </tr>\n",
       "  </thead>\n",
       "  <tbody>\n",
       "    <tr>\n",
       "      <th>0</th>\n",
       "      <td>statement</td>\n",
       "      <td>Q892084$C3D22AD6-A831-46A2-BE94-1FF78B35E8BA</td>\n",
       "      <td>normal</td>\n",
       "      <td>[{'hash': '9a24f7c0208b05d6be97077d855671d1dfd...</td>\n",
       "      <td>value</td>\n",
       "      <td>P214</td>\n",
       "      <td>46fc65a0d0a15cf352dcb1e94657d228522103e1</td>\n",
       "      <td>95743493</td>\n",
       "      <td>string</td>\n",
       "      <td>external-id</td>\n",
       "    </tr>\n",
       "    <tr>\n",
       "      <th>1</th>\n",
       "      <td>statement</td>\n",
       "      <td>Q892084$334a5ec0-40ac-e161-bab2-e0215b44340d</td>\n",
       "      <td>normal</td>\n",
       "      <td>NaN</td>\n",
       "      <td>value</td>\n",
       "      <td>P214</td>\n",
       "      <td>1be22e2cf2a190a93b2cf2c03eba21189336cdcc</td>\n",
       "      <td>300159474179227661355</td>\n",
       "      <td>string</td>\n",
       "      <td>external-id</td>\n",
       "    </tr>\n",
       "  </tbody>\n",
       "</table>\n",
       "</div>"
      ],
      "text/plain": [
       "        type                                            id    rank  \\\n",
       "0  statement  Q892084$C3D22AD6-A831-46A2-BE94-1FF78B35E8BA  normal   \n",
       "1  statement  Q892084$334a5ec0-40ac-e161-bab2-e0215b44340d  normal   \n",
       "\n",
       "                                          references mainsnak.snaktype  \\\n",
       "0  [{'hash': '9a24f7c0208b05d6be97077d855671d1dfd...             value   \n",
       "1                                                NaN             value   \n",
       "\n",
       "  mainsnak.property                             mainsnak.hash  \\\n",
       "0              P214  46fc65a0d0a15cf352dcb1e94657d228522103e1   \n",
       "1              P214  1be22e2cf2a190a93b2cf2c03eba21189336cdcc   \n",
       "\n",
       "  mainsnak.datavalue.value mainsnak.datavalue.type mainsnak.datatype  \n",
       "0                 95743493                  string       external-id  \n",
       "1    300159474179227661355                  string       external-id  "
      ]
     },
     "execution_count": 290,
     "metadata": {},
     "output_type": "execute_result"
    }
   ],
   "source": [
    "response = urllib.request.urlopen(url) \n",
    "    \n",
    "webContent = response.read()\n",
    "my_json = webContent.decode('utf8')       # decode utf-8\n",
    "data = json.loads(my_json)\n",
    "df_first = pd.json_normalize((data['claims']))\n",
    "df_second = pd.json_normalize(df_first['P214'][0])\n",
    "df_second"
   ]
  },
  {
   "cell_type": "code",
   "execution_count": null,
   "metadata": {},
   "outputs": [],
   "source": [
    "# append new column 'Wikipedia-json' to the dataframe\n",
    "df['Wikipedia-json'] = json_list\n",
    "df"
   ]
  },
  {
   "cell_type": "code",
   "execution_count": 141,
   "metadata": {},
   "outputs": [],
   "source": [
    "# make new dataframe from the json lists\n",
    "\n",
    "#df_fullWiki = pd.json_normalize((json_list))\n",
    "#df_fullWiki"
   ]
  },
  {
   "cell_type": "code",
   "execution_count": 142,
   "metadata": {},
   "outputs": [],
   "source": [
    "# save again as csv\n",
    "filename = 'Wikipedia_json-list.csv'\n",
    "df_fullWiki.to_csv(filename, index = False, header=True)"
   ]
  },
  {
   "cell_type": "code",
   "execution_count": 136,
   "metadata": {},
   "outputs": [],
   "source": [
    "column_list = df_fullWiki.columns.to_list()\n",
    "#column_list"
   ]
  },
  {
   "cell_type": "code",
   "execution_count": 140,
   "metadata": {},
   "outputs": [],
   "source": [
    "# include new columns in original dataframe df\n",
    "\n",
    "df['image'] = df_fullWiki['originalimage.source']\n",
    "df['thumbnail'] = df_fullWiki['thumbnail.source']\n",
    "#df"
   ]
  },
  {
   "cell_type": "markdown",
   "metadata": {},
   "source": [
    "# Prepare data for usage with CABLES"
   ]
  },
  {
   "cell_type": "markdown",
   "metadata": {},
   "source": [
    "# save again as csv\n",
    "artist_wiki_names = df['URL-names']\n",
    "df_names = pd.DataFrame()\n",
    "df_names['URL-names'] = df['URL-names']\n",
    "filename = 'artist_wiki_names.csv'\n",
    "df_names.to_csv(filename, index = False, header=False)\n",
    "#df_names"
   ]
  },
  {
   "cell_type": "code",
   "execution_count": 9,
   "metadata": {},
   "outputs": [],
   "source": [
    "#df"
   ]
  },
  {
   "cell_type": "markdown",
   "metadata": {},
   "source": [
    "# make single json file"
   ]
  },
  {
   "cell_type": "markdown",
   "metadata": {},
   "source": [
    "### make cloudinary filename list"
   ]
  },
  {
   "cell_type": "markdown",
   "metadata": {},
   "source": [
    "#### for the thumbnails"
   ]
  },
  {
   "cell_type": "code",
   "execution_count": null,
   "metadata": {},
   "outputs": [],
   "source": [
    "list_of_cloud_thumbnail_filenames = os.listdir('thumbnails_2')\n",
    "#list_of_cloud_thumbnail_filenames"
   ]
  },
  {
   "cell_type": "code",
   "execution_count": null,
   "metadata": {},
   "outputs": [],
   "source": [
    "# cloudinary filename example: 'thumbnail_069_v5cgwi.png'\n",
    "# build filename list for .startswith comparison\n",
    "index2 = 0\n",
    "filename_list = []\n",
    "for i in range(292):\n",
    "    \n",
    "    if index2 < 10:\n",
    "        filename = \"thumbnail_00\" + str(index2) \n",
    "    elif index2 < 100:\n",
    "        filename = \"thumbnail_0\" + str(index2)\n",
    "    else:\n",
    "        filename = \"thumbnail_\" + str(index2)\n",
    "    index2+=1\n",
    "    filename_list.append(filename)\n",
    "filename_list"
   ]
  },
  {
   "cell_type": "code",
   "execution_count": 44,
   "metadata": {},
   "outputs": [],
   "source": [
    "list_of_cloud_thumbnail_filenames = os.listdir('thumbnails_2')\n",
    "#list_of_cloud_thumbnail_filenames\n",
    "\n",
    "\n",
    "# get the fitting cloudinary filename for the thumbnails in a column\n",
    "new_list = []\n",
    "for i in filename_list:\n",
    "    check = 0\n",
    "    for j in list_of_cloud_thumbnail_filenames:\n",
    "        if j.startswith(i):\n",
    "            new_list.append('https://res.cloudinary.com/dfyzsulq8/image/upload/v1621498950/thumbnails/'+j)\n",
    "            check = 1\n",
    "    if check == 0:\n",
    "        new_list.append('')\n",
    "            \n",
    "df['cloudinary thumbnails'] = new_list"
   ]
  },
  {
   "cell_type": "markdown",
   "metadata": {},
   "source": [
    "#### for the artworks"
   ]
  },
  {
   "cell_type": "code",
   "execution_count": 79,
   "metadata": {},
   "outputs": [],
   "source": [
    "list_of_artworks = os.listdir('artworks_cloudinary')"
   ]
  },
  {
   "cell_type": "code",
   "execution_count": 97,
   "metadata": {},
   "outputs": [
    {
     "data": {
      "text/plain": [
       "292"
      ]
     },
     "execution_count": 97,
     "metadata": {},
     "output_type": "execute_result"
    }
   ],
   "source": [
    "# get the fitting cloudinary filename for the artworks\n",
    "artwork_list = []\n",
    "for i in df_cables['index']:\n",
    "    check = 0\n",
    "    storage = []\n",
    "    for j in list_of_artworks:\n",
    "        if j.startswith(str(i) + '_'):\n",
    "            storage.append('https://res.cloudinary.com/dfyzsulq8/image/upload/v1621499134/artworks/' + str(j))\n",
    "            check = 1\n",
    "    if check == 0:\n",
    "        artwork_list.append('')\n",
    "    else:\n",
    "        artwork_list.append(storage)\n",
    "df['cloudinary artworks'] = artwork_list\n",
    "len(artwork_list)"
   ]
  },
  {
   "cell_type": "code",
   "execution_count": 108,
   "metadata": {},
   "outputs": [
    {
     "data": {
      "text/plain": [
       "292"
      ]
     },
     "execution_count": 108,
     "metadata": {},
     "output_type": "execute_result"
    }
   ],
   "source": [
    "position_in_timeline = [1271,1266,9999,1254,1282,1249,1276,1268,1304,1400,1316,1311,1326,1305,1314,1319,1308,1314.5,1285,1309,1324,1328,1341,1340,1412,1373,1395,1365,1287,1395.5,1321,1380,1384,1319.5,1398,1392,1388,1407,1453,1406,1410,1446,1396.0,1440,1480,1527,1436,1416,1405,1415,1420,1414,1411,1426,1434,1439,1429,1448,1461,1454,1424,1449,1487,1438,1429.5,1449.5,1462,1466,1433,1465,1468,1458,9999,1463,1472,1433.5,1431,1390,1425,1376,1435,1453.5,1461.5,1470,1441,1443,1457,1448.5,1431.5,1447,1456,1498,1504,1474,1430.0,1473,1463.5,1475,1514,1468.5,1467,1470.5,1477,1471,1466.5,1478,1488,1486,1464,1469,1445,1473.5,1465.5,1457.5,1490,1535,1464.5,1475.5,1482,1462.5,1499,1484,1485,1481,1479,1526,1510,1500,1496,1407.5,1383,1360,1404,1335,1355,1467.5,1495,1483,1495.5,1469.5,1491,1492,1481.5,1487.5,1496.5,1494,1507,1521,1521.5,1483.5,1518,1522,1501,1478.5,1532,1482.5,1489,1512,1488.5,1474.5,1489.5,1490.5,1493,1497.0,1476.0,1491.5,1502,1497.5,1477.5,1484.5,1476.5,1505,1492.5,1511,1493.5,1494.5,1509,1498.5,1530,1499.5,1500.5,1516,1508,1501.5,1503,1503.5,1505.5,1556,1567,1580,1517,1530.5,1520,1506,1519,1507.5,1512.5,1513,1515,1516.5,1504.5,1508.5,1509.5,1502.5,1506.5,1517.5,1510.5,1513.5,1471.5,1511.5,1514.5,1515.5,1524,1518.5,1519.5,1520.5,1522.5,1523.0,1523.5,1524.5,1525.0,1525.5,1526.5,1542,1527.5,1528.0,1528.5,1529.0,1529.5,1531.0,1538,1531.5,1532.5,1558,1565,1533.0,1533.5,1534.0,1534.5,1535.5,1536,1536.5,1485.5,1479.5,1537.0,1537.5,1551,1540,1538.5,1539.0,1539.5,1548,1540.5,1543,1574,1541.0,1543.5,1544,1541.5,1561,1554,1542.5,1544.5,1550,1562,1545.0,1545.5,1557,1553,1560,1546.0,1546.5,1557.5,1547.0,1547.5,1548.5,1549.0,1566,1594,1549.5,1550.5,1551.5,1552.0,1552.5,9999,1553.5,1554.5,1555.0,1575,1555.5,1556.5,1558.5]\n",
    "len(position_in_timeline)"
   ]
  },
  {
   "cell_type": "code",
   "execution_count": 109,
   "metadata": {},
   "outputs": [
    {
     "data": {
      "text/html": [
       "<div>\n",
       "<style scoped>\n",
       "    .dataframe tbody tr th:only-of-type {\n",
       "        vertical-align: middle;\n",
       "    }\n",
       "\n",
       "    .dataframe tbody tr th {\n",
       "        vertical-align: top;\n",
       "    }\n",
       "\n",
       "    .dataframe thead th {\n",
       "        text-align: right;\n",
       "    }\n",
       "</style>\n",
       "<table border=\"1\" class=\"dataframe\">\n",
       "  <thead>\n",
       "    <tr style=\"text-align: right;\">\n",
       "      <th></th>\n",
       "      <th>index</th>\n",
       "      <th>Name</th>\n",
       "      <th>birth</th>\n",
       "      <th>death</th>\n",
       "      <th>timeline_position</th>\n",
       "      <th>timeline_position_extended</th>\n",
       "      <th>Summary</th>\n",
       "      <th>cloudinary thumbnails</th>\n",
       "      <th>cloudinary artworks</th>\n",
       "    </tr>\n",
       "  </thead>\n",
       "  <tbody>\n",
       "    <tr>\n",
       "      <th>0</th>\n",
       "      <td>0</td>\n",
       "      <td>Cimabue</td>\n",
       "      <td>1240</td>\n",
       "      <td>1302</td>\n",
       "      <td>1271</td>\n",
       "      <td>1271.0</td>\n",
       "      <td>Cimabue, also known as Cenni di Pepo or Cenni ...</td>\n",
       "      <td>https://res.cloudinary.com/dfyzsulq8/image/upl...</td>\n",
       "      <td></td>\n",
       "    </tr>\n",
       "    <tr>\n",
       "      <th>1</th>\n",
       "      <td>1</td>\n",
       "      <td>Arnolfo di Lapo</td>\n",
       "      <td>1240</td>\n",
       "      <td>1302</td>\n",
       "      <td>1271</td>\n",
       "      <td>1266.0</td>\n",
       "      <td>Arnolfo di Cambio was an Italian architect and...</td>\n",
       "      <td>https://res.cloudinary.com/dfyzsulq8/image/upl...</td>\n",
       "      <td></td>\n",
       "    </tr>\n",
       "    <tr>\n",
       "      <th>2</th>\n",
       "      <td>2</td>\n",
       "      <td>Bonanno</td>\n",
       "      <td>9999</td>\n",
       "      <td>9999</td>\n",
       "      <td>9999</td>\n",
       "      <td>9999.0</td>\n",
       "      <td>Bonanno Pisano (Pisa), active in the 1170s and...</td>\n",
       "      <td>https://res.cloudinary.com/dfyzsulq8/image/upl...</td>\n",
       "      <td></td>\n",
       "    </tr>\n",
       "    <tr>\n",
       "      <th>3</th>\n",
       "      <td>3</td>\n",
       "      <td>Nicola Pisano</td>\n",
       "      <td>1225</td>\n",
       "      <td>1284</td>\n",
       "      <td>1254</td>\n",
       "      <td>1254.0</td>\n",
       "      <td>Nicola Pisano was an Italian sculptor whose wo...</td>\n",
       "      <td>https://res.cloudinary.com/dfyzsulq8/image/upl...</td>\n",
       "      <td></td>\n",
       "    </tr>\n",
       "    <tr>\n",
       "      <th>4</th>\n",
       "      <td>4</td>\n",
       "      <td>Giovanni Pisano</td>\n",
       "      <td>1248</td>\n",
       "      <td>1316</td>\n",
       "      <td>1282</td>\n",
       "      <td>1282.0</td>\n",
       "      <td>Giovanni Pisano was an Italian sculptor, paint...</td>\n",
       "      <td>https://res.cloudinary.com/dfyzsulq8/image/upl...</td>\n",
       "      <td>[https://res.cloudinary.com/dfyzsulq8/image/up...</td>\n",
       "    </tr>\n",
       "    <tr>\n",
       "      <th>...</th>\n",
       "      <td>...</td>\n",
       "      <td>...</td>\n",
       "      <td>...</td>\n",
       "      <td>...</td>\n",
       "      <td>...</td>\n",
       "      <td>...</td>\n",
       "      <td>...</td>\n",
       "      <td>...</td>\n",
       "      <td>...</td>\n",
       "    </tr>\n",
       "    <tr>\n",
       "      <th>287</th>\n",
       "      <td>287</td>\n",
       "      <td>Dono Doni</td>\n",
       "      <td>1500</td>\n",
       "      <td>1575</td>\n",
       "      <td>1538</td>\n",
       "      <td>1555.0</td>\n",
       "      <td>Dono Doni, also known as Adone Doni or Dono de...</td>\n",
       "      <td>https://res.cloudinary.com/dfyzsulq8/image/upl...</td>\n",
       "      <td></td>\n",
       "    </tr>\n",
       "    <tr>\n",
       "      <th>288</th>\n",
       "      <td>288</td>\n",
       "      <td>Cesare Nebbia</td>\n",
       "      <td>1536</td>\n",
       "      <td>1614</td>\n",
       "      <td>1575</td>\n",
       "      <td>1575.0</td>\n",
       "      <td>Cesare Nebbia (c.1536–c.1622) was an Italian p...</td>\n",
       "      <td>https://res.cloudinary.com/dfyzsulq8/image/upl...</td>\n",
       "      <td>[https://res.cloudinary.com/dfyzsulq8/image/up...</td>\n",
       "    </tr>\n",
       "    <tr>\n",
       "      <th>289</th>\n",
       "      <td>289</td>\n",
       "      <td>Niccolò Circignani detto il Pomarancio</td>\n",
       "      <td>1517</td>\n",
       "      <td>1597</td>\n",
       "      <td>1557</td>\n",
       "      <td>1555.5</td>\n",
       "      <td>Niccolò Circignani was an Italian painter of t...</td>\n",
       "      <td>https://res.cloudinary.com/dfyzsulq8/image/upl...</td>\n",
       "      <td>[https://res.cloudinary.com/dfyzsulq8/image/up...</td>\n",
       "    </tr>\n",
       "    <tr>\n",
       "      <th>290</th>\n",
       "      <td>290</td>\n",
       "      <td>Bronzino</td>\n",
       "      <td>1503</td>\n",
       "      <td>1572</td>\n",
       "      <td>1538</td>\n",
       "      <td>1556.5</td>\n",
       "      <td>Agnolo di Cosimo, usually known as Bronzino or...</td>\n",
       "      <td>https://res.cloudinary.com/dfyzsulq8/image/upl...</td>\n",
       "      <td>[https://res.cloudinary.com/dfyzsulq8/image/up...</td>\n",
       "    </tr>\n",
       "    <tr>\n",
       "      <th>291</th>\n",
       "      <td>291</td>\n",
       "      <td>Giorgio Vasari</td>\n",
       "      <td>1511</td>\n",
       "      <td>1574</td>\n",
       "      <td>1542</td>\n",
       "      <td>1558.5</td>\n",
       "      <td>Giorgio Vasari was an Italian painter, archite...</td>\n",
       "      <td>https://res.cloudinary.com/dfyzsulq8/image/upl...</td>\n",
       "      <td></td>\n",
       "    </tr>\n",
       "  </tbody>\n",
       "</table>\n",
       "<p>292 rows × 9 columns</p>\n",
       "</div>"
      ],
      "text/plain": [
       "     index                                    Name  birth  death  \\\n",
       "0        0                                 Cimabue   1240   1302   \n",
       "1        1                         Arnolfo di Lapo   1240   1302   \n",
       "2        2                                 Bonanno   9999   9999   \n",
       "3        3                           Nicola Pisano   1225   1284   \n",
       "4        4                         Giovanni Pisano   1248   1316   \n",
       "..     ...                                     ...    ...    ...   \n",
       "287    287                               Dono Doni   1500   1575   \n",
       "288    288                           Cesare Nebbia   1536   1614   \n",
       "289    289  Niccolò Circignani detto il Pomarancio   1517   1597   \n",
       "290    290                                Bronzino   1503   1572   \n",
       "291    291                          Giorgio Vasari   1511   1574   \n",
       "\n",
       "     timeline_position  timeline_position_extended  \\\n",
       "0                 1271                      1271.0   \n",
       "1                 1271                      1266.0   \n",
       "2                 9999                      9999.0   \n",
       "3                 1254                      1254.0   \n",
       "4                 1282                      1282.0   \n",
       "..                 ...                         ...   \n",
       "287               1538                      1555.0   \n",
       "288               1575                      1575.0   \n",
       "289               1557                      1555.5   \n",
       "290               1538                      1556.5   \n",
       "291               1542                      1558.5   \n",
       "\n",
       "                                               Summary  \\\n",
       "0    Cimabue, also known as Cenni di Pepo or Cenni ...   \n",
       "1    Arnolfo di Cambio was an Italian architect and...   \n",
       "2    Bonanno Pisano (Pisa), active in the 1170s and...   \n",
       "3    Nicola Pisano was an Italian sculptor whose wo...   \n",
       "4    Giovanni Pisano was an Italian sculptor, paint...   \n",
       "..                                                 ...   \n",
       "287  Dono Doni, also known as Adone Doni or Dono de...   \n",
       "288  Cesare Nebbia (c.1536–c.1622) was an Italian p...   \n",
       "289  Niccolò Circignani was an Italian painter of t...   \n",
       "290  Agnolo di Cosimo, usually known as Bronzino or...   \n",
       "291  Giorgio Vasari was an Italian painter, archite...   \n",
       "\n",
       "                                 cloudinary thumbnails  \\\n",
       "0    https://res.cloudinary.com/dfyzsulq8/image/upl...   \n",
       "1    https://res.cloudinary.com/dfyzsulq8/image/upl...   \n",
       "2    https://res.cloudinary.com/dfyzsulq8/image/upl...   \n",
       "3    https://res.cloudinary.com/dfyzsulq8/image/upl...   \n",
       "4    https://res.cloudinary.com/dfyzsulq8/image/upl...   \n",
       "..                                                 ...   \n",
       "287  https://res.cloudinary.com/dfyzsulq8/image/upl...   \n",
       "288  https://res.cloudinary.com/dfyzsulq8/image/upl...   \n",
       "289  https://res.cloudinary.com/dfyzsulq8/image/upl...   \n",
       "290  https://res.cloudinary.com/dfyzsulq8/image/upl...   \n",
       "291  https://res.cloudinary.com/dfyzsulq8/image/upl...   \n",
       "\n",
       "                                   cloudinary artworks  \n",
       "0                                                       \n",
       "1                                                       \n",
       "2                                                       \n",
       "3                                                       \n",
       "4    [https://res.cloudinary.com/dfyzsulq8/image/up...  \n",
       "..                                                 ...  \n",
       "287                                                     \n",
       "288  [https://res.cloudinary.com/dfyzsulq8/image/up...  \n",
       "289  [https://res.cloudinary.com/dfyzsulq8/image/up...  \n",
       "290  [https://res.cloudinary.com/dfyzsulq8/image/up...  \n",
       "291                                                     \n",
       "\n",
       "[292 rows x 9 columns]"
      ]
     },
     "execution_count": 109,
     "metadata": {},
     "output_type": "execute_result"
    }
   ],
   "source": [
    "# make new dataframe for cables -> to be converted to json array\n",
    "\n",
    "index = []\n",
    "for i in range(292):\n",
    "    index.append(i)\n",
    "df_cables = pd.DataFrame()\n",
    "df_cables['index'] = index\n",
    "df_cables['Name'] = df['Name']\n",
    "df_cables['birth'] = df['birth']\n",
    "df_cables['death'] = df['death']\n",
    "df_cables['timeline_position'] = df['timeline_position']\n",
    "df_cables['timeline_position_extended'] = position_in_timeline\n",
    "df_cables['Summary'] = df['Summary']\n",
    "df_cables['cloudinary thumbnails'] = df['cloudinary thumbnails']\n",
    "df_cables['cloudinary artworks'] = df['cloudinary artworks']\n",
    "\n",
    "df_cables"
   ]
  },
  {
   "cell_type": "code",
   "execution_count": 116,
   "metadata": {},
   "outputs": [],
   "source": [
    "# sort dataframe by position in timeline df.sort_values(by=['col1'])\n",
    "df_cables.sort_values(by = ['timeline_position_extended'], inplace= True)"
   ]
  },
  {
   "cell_type": "code",
   "execution_count": 124,
   "metadata": {},
   "outputs": [
    {
     "data": {
      "text/plain": [
       "292"
      ]
     },
     "execution_count": 124,
     "metadata": {},
     "output_type": "execute_result"
    }
   ],
   "source": [
    "# make list of jsons from dataframe\n",
    "list_of_json = []\n",
    "for i in range(len(df_cables)):\n",
    "    x = df_cables.iloc[i].to_json()\n",
    "    list_of_json.append(x)\n",
    "len(list_of_json)\n",
    "#df_cables.iloc[4].to_json()"
   ]
  },
  {
   "cell_type": "code",
   "execution_count": 142,
   "metadata": {},
   "outputs": [
    {
     "data": {
      "text/plain": [
       "dict"
      ]
     },
     "execution_count": 142,
     "metadata": {},
     "output_type": "execute_result"
    }
   ],
   "source": [
    "another_list = []\n",
    "for i in list_of_json:\n",
    "    data = json.loads(i)\n",
    "    another_list.append(data)\n",
    "type(another_list[0])\n",
    "with open('json_list.json', 'w') as outfile:\n",
    "    json.dump(another_list, outfile)"
   ]
  },
  {
   "cell_type": "code",
   "execution_count": 143,
   "metadata": {},
   "outputs": [],
   "source": [
    "with open('json_list.json', 'w') as outfile:\n",
    "    json.dump(another_list, outfile)"
   ]
  },
  {
   "cell_type": "markdown",
   "metadata": {},
   "source": [
    "# OPEN and SAVE "
   ]
  },
  {
   "cell_type": "code",
   "execution_count": 8,
   "metadata": {},
   "outputs": [
    {
     "data": {
      "text/plain": [
       "['Wikipedia_json-list.csv',\n",
       " 'artist_wiki_names.csv',\n",
       " 'df_cables.csv',\n",
       " 'artist_qid.csv',\n",
       " '202001-rma-csv-collection.csv',\n",
       " 'artist_qid_backup.csv']"
      ]
     },
     "execution_count": 8,
     "metadata": {},
     "output_type": "execute_result"
    }
   ],
   "source": [
    "os.listdir('../data')"
   ]
  },
  {
   "cell_type": "code",
   "execution_count": 17,
   "metadata": {},
   "outputs": [
    {
     "data": {
      "text/plain": [
       "292"
      ]
     },
     "execution_count": 17,
     "metadata": {},
     "output_type": "execute_result"
    }
   ],
   "source": [
    "len(df)"
   ]
  },
  {
   "cell_type": "code",
   "execution_count": 1,
   "metadata": {},
   "outputs": [
    {
     "ename": "NameError",
     "evalue": "name 'pd' is not defined",
     "output_type": "error",
     "traceback": [
      "\u001b[0;31m---------------------------------------------------------------------------\u001b[0m",
      "\u001b[0;31mNameError\u001b[0m                                 Traceback (most recent call last)",
      "\u001b[0;32m<ipython-input-1-464beb43a267>\u001b[0m in \u001b[0;36m<module>\u001b[0;34m\u001b[0m\n\u001b[1;32m      1\u001b[0m \u001b[0mfilename\u001b[0m \u001b[0;34m=\u001b[0m \u001b[0;34m'../data/artist_qid.csv'\u001b[0m\u001b[0;34m\u001b[0m\u001b[0;34m\u001b[0m\u001b[0m\n\u001b[0;32m----> 2\u001b[0;31m \u001b[0mdf\u001b[0m \u001b[0;34m=\u001b[0m \u001b[0mpd\u001b[0m\u001b[0;34m.\u001b[0m\u001b[0mread_csv\u001b[0m\u001b[0;34m(\u001b[0m\u001b[0mfilename\u001b[0m\u001b[0;34m)\u001b[0m\u001b[0;34m\u001b[0m\u001b[0;34m\u001b[0m\u001b[0m\n\u001b[0m\u001b[1;32m      3\u001b[0m \u001b[0;31m#df.to_csv(filename)\u001b[0m\u001b[0;34m\u001b[0m\u001b[0;34m\u001b[0m\u001b[0;34m\u001b[0m\u001b[0m\n\u001b[1;32m      4\u001b[0m \u001b[0;34m\u001b[0m\u001b[0m\n\u001b[1;32m      5\u001b[0m \u001b[0mdf\u001b[0m\u001b[0;34m[\u001b[0m\u001b[0;34m'Wikipedia-json'\u001b[0m\u001b[0;34m]\u001b[0m\u001b[0;34m[\u001b[0m\u001b[0;36m8\u001b[0m\u001b[0;34m]\u001b[0m\u001b[0;34m\u001b[0m\u001b[0;34m\u001b[0m\u001b[0m\n",
      "\u001b[0;31mNameError\u001b[0m: name 'pd' is not defined"
     ]
    }
   ],
   "source": [
    "filename = '../data/artist_qid.csv'\n",
    "df = pd.read_csv(filename)\n",
    "#df.to_csv(filename)\n",
    "\n",
    "df['Wikipedia-json'][8]"
   ]
  },
  {
   "cell_type": "markdown",
   "metadata": {},
   "source": [
    "## END OF WIKI "
   ]
  },
  {
   "cell_type": "markdown",
   "metadata": {},
   "source": [
    "# FONDAZIONE MEMOFONTE"
   ]
  },
  {
   "cell_type": "markdown",
   "metadata": {},
   "source": [
    "## open CSV-file as dataframe"
   ]
  },
  {
   "cell_type": "code",
   "execution_count": 7,
   "metadata": {},
   "outputs": [
    {
     "data": {
      "text/html": [
       "<div>\n",
       "<style scoped>\n",
       "    .dataframe tbody tr th:only-of-type {\n",
       "        vertical-align: middle;\n",
       "    }\n",
       "\n",
       "    .dataframe tbody tr th {\n",
       "        vertical-align: top;\n",
       "    }\n",
       "\n",
       "    .dataframe thead th {\n",
       "        text-align: right;\n",
       "    }\n",
       "</style>\n",
       "<table border=\"1\" class=\"dataframe\">\n",
       "  <thead>\n",
       "    <tr style=\"text-align: right;\">\n",
       "      <th></th>\n",
       "      <th>Numero d'ordine</th>\n",
       "      <th>Data</th>\n",
       "      <th>Intestazione</th>\n",
       "      <th>Segnatura</th>\n",
       "      <th>Fonte</th>\n",
       "      <th>Bibliografia</th>\n",
       "    </tr>\n",
       "  </thead>\n",
       "  <tbody>\n",
       "    <tr>\n",
       "      <th>0</th>\n",
       "      <td>1051</td>\n",
       "      <td>26 12  1572</td>\n",
       "      <td>VINCENZO BORGHINI IN FIRENZE A GIORGIO VASARI ...</td>\n",
       "      <td>ASA, AV, 14 (XLVIII), cc. 146-148.</td>\n",
       "      <td>Molto Magnifico messer Giorgio. Ho ricevuto la...</td>\n",
       "      <td>Frey 1930, pp. 736-737.</td>\n",
       "    </tr>\n",
       "    <tr>\n",
       "      <th>1</th>\n",
       "      <td>791</td>\n",
       "      <td>24 12  1569</td>\n",
       "      <td>GIORGIO VASARI IN FIRENZE A ORDINE DI SANTO ST...</td>\n",
       "      <td>ASPI, Carte Bonaini, IX.</td>\n",
       "      <td>Illustrissimi Signori miei observandissimi. Co...</td>\n",
       "      <td>Frey 1930, pp. 476-477.</td>\n",
       "    </tr>\n",
       "    <tr>\n",
       "      <th>2</th>\n",
       "      <td>284</td>\n",
       "      <td>20 04  1559</td>\n",
       "      <td>GABRIEL FIAMMA IN PADOVA A GIORGIO VASARI IN F...</td>\n",
       "      <td>ASA, AV, 13 (XLVII), cc. 53, 59.</td>\n",
       "      <td>Magnifico Signor mio osservandissimo. Ho scrit...</td>\n",
       "      <td>Frey 1923, pp. 513-514.</td>\n",
       "    </tr>\n",
       "    <tr>\n",
       "      <th>3</th>\n",
       "      <td>1114</td>\n",
       "      <td>1 08  1573</td>\n",
       "      <td>GIORGIO VASARI IN FIRENZE AI DEPUTATI ALLE FAB...</td>\n",
       "      <td>AAA, filza CC, Registro di lettere, i, 1569, I...</td>\n",
       "      <td>Molto magnifici Signori Deputati, Signori mia ...</td>\n",
       "      <td>Frey 1930, pp. 810-811.</td>\n",
       "    </tr>\n",
       "    <tr>\n",
       "      <th>4</th>\n",
       "      <td>904</td>\n",
       "      <td>3 09  1571</td>\n",
       "      <td>GUGLIELMO SANGALLETTI IN ROMA A GIORGIO VASARI...</td>\n",
       "      <td>ASA, AV, 15 (XLIX), cc. 174, 177.</td>\n",
       "      <td>Molto Magnifico Signor Cavaliere. La presente ...</td>\n",
       "      <td>Frey 1930, pp. 599-600.</td>\n",
       "    </tr>\n",
       "    <tr>\n",
       "      <th>...</th>\n",
       "      <td>...</td>\n",
       "      <td>...</td>\n",
       "      <td>...</td>\n",
       "      <td>...</td>\n",
       "      <td>...</td>\n",
       "      <td>...</td>\n",
       "    </tr>\n",
       "    <tr>\n",
       "      <th>1146</th>\n",
       "      <td>356</td>\n",
       "      <td>1 01  1562</td>\n",
       "      <td>GIORGIO VASARI IN FIRENZE A JACOPO GUIDI</td>\n",
       "      <td>ASF, Carte Guidi, c. 356.</td>\n",
       "      <td>Reverendissimo monsignore patron mio,io mando ...</td>\n",
       "      <td>Palli D’Addario 1985, pp. 379-380 (post 2 giug...</td>\n",
       "    </tr>\n",
       "    <tr>\n",
       "      <th>1147</th>\n",
       "      <td>585</td>\n",
       "      <td>18 06  1565</td>\n",
       "      <td>GIORGIO VASARI IN FIRENZE A VINCENZO BORGHINI...</td>\n",
       "      <td>ASF, CdA, II, I, n. 30.</td>\n",
       "      <td>Reverendo Signor mio. S’è riceuto la vostra le...</td>\n",
       "      <td>Gaye 1839-1840, III, p. 185; Milanesi 1878-18...</td>\n",
       "    </tr>\n",
       "    <tr>\n",
       "      <th>1148</th>\n",
       "      <td>839</td>\n",
       "      <td>29 08  1570</td>\n",
       "      <td>VINCENZO BORGHINI IN POPPIANO A GIORGIO VASARI</td>\n",
       "      <td>ASA, AV, 14 (XLVIII), c. 70.</td>\n",
       "      <td>Messer Giorgio mio. Io vi mando una lunga dice...</td>\n",
       "      <td>Frey 1930, pp. 522-523.</td>\n",
       "    </tr>\n",
       "    <tr>\n",
       "      <th>1149</th>\n",
       "      <td>993</td>\n",
       "      <td>6 06  1572</td>\n",
       "      <td>BARTOLOMMEO BUSSOTTO IN ROMA A GIORGIO VASARI ...</td>\n",
       "      <td>ASA, AV, 10 (XLIV), cc. 83, 86.</td>\n",
       "      <td>Molto magnifico Signor come fratello. Scrissi ...</td>\n",
       "      <td>Frey 1930, pp. 681-682.</td>\n",
       "    </tr>\n",
       "    <tr>\n",
       "      <th>1150</th>\n",
       "      <td>28</td>\n",
       "      <td>6 07  1536</td>\n",
       "      <td>GIORGIO VASARI IN AREZZO A NICCOLÒ SERGUIDI IN...</td>\n",
       "      <td>BRF, 2354, c. 26v, copia di Giorgio Vasari il ...</td>\n",
       "      <td>A messer Niccolo Serguidi sopra l’ornamento di...</td>\n",
       "      <td>Bottari-Ticozzi 1822-1825, III, pp. 63-67 (6 l...</td>\n",
       "    </tr>\n",
       "  </tbody>\n",
       "</table>\n",
       "<p>1151 rows × 6 columns</p>\n",
       "</div>"
      ],
      "text/plain": [
       "      Numero d'ordine         Data  \\\n",
       "0                1051  26 12  1572   \n",
       "1                 791  24 12  1569   \n",
       "2                 284  20 04  1559   \n",
       "3                1114   1 08  1573   \n",
       "4                 904   3 09  1571   \n",
       "...               ...          ...   \n",
       "1146              356   1 01  1562   \n",
       "1147              585  18 06  1565   \n",
       "1148              839  29 08  1570   \n",
       "1149              993   6 06  1572   \n",
       "1150               28   6 07  1536   \n",
       "\n",
       "                                           Intestazione  \\\n",
       "0     VINCENZO BORGHINI IN FIRENZE A GIORGIO VASARI ...   \n",
       "1     GIORGIO VASARI IN FIRENZE A ORDINE DI SANTO ST...   \n",
       "2     GABRIEL FIAMMA IN PADOVA A GIORGIO VASARI IN F...   \n",
       "3     GIORGIO VASARI IN FIRENZE AI DEPUTATI ALLE FAB...   \n",
       "4     GUGLIELMO SANGALLETTI IN ROMA A GIORGIO VASARI...   \n",
       "...                                                 ...   \n",
       "1146           GIORGIO VASARI IN FIRENZE A JACOPO GUIDI   \n",
       "1147   GIORGIO VASARI IN FIRENZE A VINCENZO BORGHINI...   \n",
       "1148    VINCENZO BORGHINI IN POPPIANO A GIORGIO VASARI    \n",
       "1149  BARTOLOMMEO BUSSOTTO IN ROMA A GIORGIO VASARI ...   \n",
       "1150  GIORGIO VASARI IN AREZZO A NICCOLÒ SERGUIDI IN...   \n",
       "\n",
       "                                              Segnatura  \\\n",
       "0                    ASA, AV, 14 (XLVIII), cc. 146-148.   \n",
       "1                              ASPI, Carte Bonaini, IX.   \n",
       "2                      ASA, AV, 13 (XLVII), cc. 53, 59.   \n",
       "3     AAA, filza CC, Registro di lettere, i, 1569, I...   \n",
       "4                     ASA, AV, 15 (XLIX), cc. 174, 177.   \n",
       "...                                                 ...   \n",
       "1146                          ASF, Carte Guidi, c. 356.   \n",
       "1147                            ASF, CdA, II, I, n. 30.   \n",
       "1148                       ASA, AV, 14 (XLVIII), c. 70.   \n",
       "1149                    ASA, AV, 10 (XLIV), cc. 83, 86.   \n",
       "1150  BRF, 2354, c. 26v, copia di Giorgio Vasari il ...   \n",
       "\n",
       "                                                  Fonte  \\\n",
       "0     Molto Magnifico messer Giorgio. Ho ricevuto la...   \n",
       "1     Illustrissimi Signori miei observandissimi. Co...   \n",
       "2     Magnifico Signor mio osservandissimo. Ho scrit...   \n",
       "3     Molto magnifici Signori Deputati, Signori mia ...   \n",
       "4     Molto Magnifico Signor Cavaliere. La presente ...   \n",
       "...                                                 ...   \n",
       "1146  Reverendissimo monsignore patron mio,io mando ...   \n",
       "1147  Reverendo Signor mio. S’è riceuto la vostra le...   \n",
       "1148  Messer Giorgio mio. Io vi mando una lunga dice...   \n",
       "1149  Molto magnifico Signor come fratello. Scrissi ...   \n",
       "1150  A messer Niccolo Serguidi sopra l’ornamento di...   \n",
       "\n",
       "                                           Bibliografia  \n",
       "0                               Frey 1930, pp. 736-737.  \n",
       "1                               Frey 1930, pp. 476-477.  \n",
       "2                               Frey 1923, pp. 513-514.  \n",
       "3                              Frey 1930, pp. 810-811.   \n",
       "4                               Frey 1930, pp. 599-600.  \n",
       "...                                                 ...  \n",
       "1146  Palli D’Addario 1985, pp. 379-380 (post 2 giug...  \n",
       "1147   Gaye 1839-1840, III, p. 185; Milanesi 1878-18...  \n",
       "1148                            Frey 1930, pp. 522-523.  \n",
       "1149                            Frey 1930, pp. 681-682.  \n",
       "1150  Bottari-Ticozzi 1822-1825, III, pp. 63-67 (6 l...  \n",
       "\n",
       "[1151 rows x 6 columns]"
      ]
     },
     "execution_count": 7,
     "metadata": {},
     "output_type": "execute_result"
    }
   ],
   "source": [
    "filename = 'data/results/letters/letters.csv'\n",
    "csv_file = csv.reader(open(filename, \"r\"))\n",
    "dataframe = pd.read_csv(filename)\n",
    "dataframe"
   ]
  },
  {
   "cell_type": "markdown",
   "metadata": {},
   "source": [
    "### get rid of nan-values"
   ]
  },
  {
   "cell_type": "markdown",
   "metadata": {},
   "source": [
    "'nan' count in total: 11 rows with nan values \n",
    "--> replace with '0' and collect index for documentation (row-indices found: 17, 101, 268, 368, 491, 569, 617, 703, 740, 928, 985)"
   ]
  },
  {
   "cell_type": "code",
   "execution_count": null,
   "metadata": {},
   "outputs": [],
   "source": [
    "count = 0\n",
    "for i in range(len(dataframe)): # check column by column if isnan and replace with '0'\n",
    "    \n",
    "    if isnan(dataframe['Intestazione'][i]): \n",
    "        print('Intestazione, ', count)\n",
    "        (dataframe['Intestazione'][i]) = '0'\n",
    "        \n",
    "    if isnan(dataframe['Segnatura'][i]):\n",
    "        #print('Segnatura', count)\n",
    "        (dataframe['Segnatura'][i]) = '0'\n",
    "        \n",
    "    if isnan(dataframe['Fonte'][i]):\n",
    "        #print('Fonte', count)\n",
    "        (dataframe['Fonte'][i]) = '0'\n",
    "        \n",
    "    if isnan(dataframe['Bibliografia'][i]):\n",
    "        #print('Bibliografia', count)\n",
    "        (dataframe['Bibliografia'][i]) = '0'\n",
    "    \n",
    "    \n",
    "    count+=1\n",
    "            "
   ]
  },
  {
   "cell_type": "markdown",
   "metadata": {},
   "source": [
    "# Distinguish letters written by Vasari from himself copies of his nefew"
   ]
  },
  {
   "cell_type": "markdown",
   "metadata": {},
   "source": [
    "example for signature of letter copied by nefew (called Giorgio Vasari the younger) \n",
    "BRF, 2354, cc. 12v-14, copia di Giorgio Vasari il Giovane.\n",
    "\n",
    "number of letters filtered at http://vasariscrittore.memofonte.it/archivio?\n",
    "390"
   ]
  },
  {
   "cell_type": "code",
   "execution_count": 34,
   "metadata": {
    "scrolled": false
   },
   "outputs": [
    {
     "data": {
      "text/plain": [
       "(404, 363)"
      ]
     },
     "execution_count": 34,
     "metadata": {},
     "output_type": "execute_result"
    }
   ],
   "source": [
    "Vasari = list() # list for letters sent by Vasari\n",
    "Vasari_no_copies = list() # filter out the copies of his nefew\n",
    "#Va_indices = list()\n",
    "\n",
    "\n",
    "\n",
    "#    if dataframe['Intestazione'][i].startswith('GIORGIO VASARI') or dataframe['Intestazione'][i].startswith(' VINCENZO BORGHINI'): # VINCENZO BORGHINI\n",
    "count = 0\n",
    "for i in range(len(dataframe)):\n",
    "    count +=1 \n",
    "    # all letters Vasari sent\n",
    "    if dataframe['Intestazione'][i].startswith('GIORGIO VASARI') or dataframe['Intestazione'][i].startswith(' GIORGIO VASARI'): # GIORGIO VASARI\n",
    "        #print(dataframe['Intestazione'][i])\n",
    "        #print(dataframe['Segnatura'][i], count)\n",
    "        Vasari.append(list(dataframe.iloc[i]))\n",
    "    # copies filtered out\n",
    "    if (dataframe['Intestazione'][i].startswith('GIORGIO VASARI') or dataframe['Intestazione'][i].startswith(' GIORGIO VASARI')) and 'copia' not in dataframe['Segnatura'][i]: # filter out copies\n",
    "        #print(dataframe['Segnatura'][i], count)\n",
    "        Vasari_no_copies.append(list(dataframe.iloc[i]))\n",
    "\n",
    "        \n",
    "len(Vasari), len(Vasari_no_copies)"
   ]
  },
  {
   "cell_type": "markdown",
   "metadata": {},
   "source": [
    "Make new dataframes and save as csv files"
   ]
  },
  {
   "cell_type": "code",
   "execution_count": 18,
   "metadata": {},
   "outputs": [],
   "source": [
    "# columns and filepath\n",
    "columns = [\"Numero d'ordine\", \"Data\", \"Intestazione\", \"Segnatura\", \"Fonte\", \"Bibliografia\"]\n",
    "data_path = 'data/results/letters/'"
   ]
  },
  {
   "cell_type": "code",
   "execution_count": 36,
   "metadata": {},
   "outputs": [],
   "source": [
    "# make dataframes\n",
    "df_Vasari = pd.DataFrame(Vasari, columns = columns)\n",
    "df_Vasari_no_copies = pd.DataFrame(Vasari_no_copies, columns = columns)\n"
   ]
  },
  {
   "cell_type": "code",
   "execution_count": 37,
   "metadata": {},
   "outputs": [],
   "source": [
    "# save as csv\n",
    "df_Vasari.to_csv(data_path + 'Vasari-all.csv', index = False, header=True)\n",
    "df_Vasari_no_copies.to_csv(data_path + 'Vasari-no_copies.csv', index = False, header=True)\n"
   ]
  },
  {
   "cell_type": "markdown",
   "metadata": {},
   "source": [
    "## split dataframe for different involved authors / contributing authorship candidates"
   ]
  },
  {
   "cell_type": "markdown",
   "metadata": {},
   "source": [
    "Cosimo Bartoli and Pierfrancesco Giambullari involved as Co-Authors after Gerd Blum (https://archiv.ub.uni-heidelberg.de/artdok/1948/1/Blum_Provvidenza_e_progresso_2010.pdf) "
   ]
  },
  {
   "cell_type": "markdown",
   "metadata": {},
   "source": [
    "Pierfrancesco Giambullari, Cosimo Bartoli, Giovan Battista Gelli und Carlo Lenzoni involved in the preparation of the edition of 1550; massive contribution of Vincenzio Borghinis concerning the indices and growing involvement over the following decennies (Alessandro Nova: Vasari versus Vasari, S.151)"
   ]
  },
  {
   "cell_type": "code",
   "execution_count": 9,
   "metadata": {},
   "outputs": [
    {
     "name": "stdout",
     "output_type": "stream",
     "text": [
      "Giambullari:  6 Borghini:  136 Bartoli:  73\n"
     ]
    }
   ],
   "source": [
    "# get Pierfrancesco Giambullari, Cosimo Bartoli, Vincenzio Borghini\n",
    "# examples of the signatures copied from http://vasariscrittore.memofonte.it/archivio# \n",
    "# COSIMO BARTOLI IN FIRENZE A GIORGIO VASARI IN ROMA (73 letters)\n",
    "# VINCENZO BORGHINI IN FIRENZE A GIORGIO VASARI IN ROMA (131 letters)\n",
    "# PIERFRANCESCO GIAMBULLARI IN FIRENZE A GIORGIO VASARI IN AREZZO (6 letters)\n",
    "\n",
    "Borghini = list() # collect whole entries written by Vincenzo Borghini\n",
    "Bo_indices = list() # collect indices of Borghini entries\n",
    "\n",
    "Giambullari = list() # collect Pierfrancesco Giambullari\n",
    "G_indices = list()\n",
    "\n",
    "Bartoli = list() # collect Pierfrancesco Giambullari\n",
    "Ba_indices = list()\n",
    "\n",
    "for i in range(len(dataframe)):\n",
    "\n",
    "    \n",
    "    if dataframe['Intestazione'][i].startswith('VINCENZO BORGHINI') or dataframe['Intestazione'][i].startswith(' VINCENZO BORGHINI'): # VINCENZO BORGHINI\n",
    "        Borghini.append(list(dataframe.iloc[i]))\n",
    "    \n",
    "    if 'COSIMO BARTOLI' in dataframe['Intestazione'][i]: # COSIMO BARTOLI\n",
    "        Bartoli.append(list(dataframe.iloc[i]))\n",
    "    \n",
    "    if 'PIERFRANCESCO GIAMBULLARI' in dataframe['Intestazione'][i]:\n",
    "        Giambullari.append(list(dataframe.iloc[i]))\n",
    "        \n",
    "    count += 1\n",
    "    \n",
    "    \n",
    "print('Giambullari: ', len(Giambullari), 'Borghini: ', len(Borghini), 'Bartoli: ', len(Bartoli))"
   ]
  },
  {
   "cell_type": "markdown",
   "metadata": {},
   "source": [
    "### Helper Functions"
   ]
  },
  {
   "cell_type": "code",
   "execution_count": 17,
   "metadata": {},
   "outputs": [],
   "source": [
    "# get rid of strange line break \"\\xa0\"\n",
    "# open a file and overwrite it\n",
    "\n",
    "def fix(name):\n",
    "    \"\"\" Fix a single .txt file\n",
    "    \"\"\"\n",
    "    input = open(name, \"rt\")\n",
    "    text = input.read()\n",
    "    input.close()\n",
    "    text = text.decode(\"utf-8\")\n",
    "\n",
    "    # Show if we get bad hits\n",
    "    for c in text:\n",
    "        if c == u\"\\xa0\":\n",
    "            print(\"Ufff\")\n",
    "\n",
    "    text = text.replace(u\"\\xa0\", u\" \")\n",
    "    text = text.encode(\"utf-8\")\n",
    "\n",
    "    output = open(name, \"wt\")\n",
    "    output.write(text)\n",
    "    output.close()\n",
    "\n",
    "\n",
    "# Process all .txt files in the\n",
    "# current folder\n",
    "for f in os.listdir(os.getcwd()):\n",
    "    if f.endswith(\".txt\"):\n",
    "        fix(f)"
   ]
  },
  {
   "cell_type": "code",
   "execution_count": 145,
   "metadata": {},
   "outputs": [
    {
     "data": {
      "text/plain": [
       "Index(['Name', 'Wikidata-Q-ID', 'Wikipedia-URL', 'URL-names', 'Summary',\n",
       "       'Wikipedia-json', 'image', 'thumbnail', 'birth', 'death',\n",
       "       'timeline_position', 'VIAF', 'wikidata', 'MET Object Indices',\n",
       "       'REAL MET Object IDS', 'cloudinary thumbnails', 'URL-list-small',\n",
       "       'cloudinary artworks'],\n",
       "      dtype='object')"
      ]
     },
     "execution_count": 145,
     "metadata": {},
     "output_type": "execute_result"
    }
   ],
   "source": [
    "#df['URL-list-small'] = dataframe['URL-Liste-small']\n",
    "df.columns"
   ]
  },
  {
   "cell_type": "code",
   "execution_count": null,
   "metadata": {},
   "outputs": [],
   "source": []
  },
  {
   "cell_type": "markdown",
   "metadata": {},
   "source": [
    "# OPEN and SAVE "
   ]
  },
  {
   "cell_type": "code",
   "execution_count": 4,
   "metadata": {},
   "outputs": [],
   "source": [
    "filename = 'df_cables.csv'\n",
    "df_cables = pd.read_csv('df_cables.csv')\n",
    "#df = pd.read_csv('artist_qid.csv')\n",
    "#df_cables.to_csv(filename)\n",
    "\n",
    "#dataframe"
   ]
  },
  {
   "cell_type": "code",
   "execution_count": 7,
   "metadata": {},
   "outputs": [],
   "source": [
    "position = ''\n",
    "for i in df_cables['timeline_position_extended']:\n",
    "    position+=str(i)+','\n",
    "    \n",
    "position = position.strip(',')\n",
    "f = open('./thumbnails/cables_position.txt', 'wb') # position\n",
    "f.write(position.encode(\"utf-8\"))\n",
    "f.close()"
   ]
  },
  {
   "cell_type": "code",
   "execution_count": 6,
   "metadata": {},
   "outputs": [],
   "source": [
    "thumbnails = ''\n",
    "for i in df_cables['cloudinary thumbnails']:\n",
    "    thumbnails+=str(i)+','\n",
    "    \n",
    "thumbnails = thumbnails.strip(',')\n",
    "f = open('./thumbnails/cables_thumbnails.txt', 'wb') # thumbnails\n",
    "f.write(thumbnails.encode(\"utf-8\"))\n",
    "f.close()"
   ]
  },
  {
   "cell_type": "code",
   "execution_count": null,
   "metadata": {},
   "outputs": [],
   "source": []
  }
 ],
 "metadata": {
  "kernelspec": {
   "display_name": "Python 3",
   "language": "python",
   "name": "python3"
  },
  "language_info": {
   "codemirror_mode": {
    "name": "ipython",
    "version": 3
   },
   "file_extension": ".py",
   "mimetype": "text/x-python",
   "name": "python",
   "nbconvert_exporter": "python",
   "pygments_lexer": "ipython3",
   "version": "3.8.5"
  }
 },
 "nbformat": 4,
 "nbformat_minor": 4
}
